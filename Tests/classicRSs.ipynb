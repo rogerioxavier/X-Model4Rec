{
 "cells": [
  {
   "cell_type": "markdown",
   "id": "2b46b7f5",
   "metadata": {},
   "source": [
    "# Created by Rogério Xavier de Azambuja\n",
    "# https://sites.google.com/farroupilha.ifrs.edu.br/xwines\n",
    "# rogerio.xavier@farroupilha.ifrs.edu.br"
   ]
  },
  {
   "cell_type": "code",
   "execution_count": 1,
   "id": "c6ca7bf8",
   "metadata": {},
   "outputs": [],
   "source": [
    "# Opening required packages for processing\n",
    "#import os\n",
    "#os.environ[\"CUDA_VISIBLE_DEVICES\"] = \"1-\"  # \"-1\" for none\n",
    "#os.environ.pop('TF_CONFIG', None)\n",
    "#os.environ[\"TF_GPU_ALLOCATOR\"]=\"cuda_malloc_async\"\n",
    "\n",
    "import pandas as pd\n",
    "pd.set_option('max_colwidth', None)\n",
    "\n",
    "import numpy as np\n",
    "np.random.seed(76)\n",
    "\n",
    "import tensorflow as tf\n",
    "tf.random.set_seed(76)\n",
    "tf.keras.utils.set_random_seed(76)  ### set seed\n",
    "\n",
    "import gc\n",
    "import warnings\n",
    "warnings.filterwarnings('ignore')"
   ]
  },
  {
   "cell_type": "code",
   "execution_count": 2,
   "id": "638fa964",
   "metadata": {},
   "outputs": [],
   "source": [
    "# Opening required packages to show output\n",
    "from tqdm.notebook import tqdm\n",
    "from matplotlib import pyplot as plt"
   ]
  },
  {
   "cell_type": "markdown",
   "id": "461778c1",
   "metadata": {},
   "source": [
    "# X-Wines Data Preprocessing steps --------------------"
   ]
  },
  {
   "cell_type": "markdown",
   "id": "66c1d0f6",
   "metadata": {},
   "source": [
    "# On-line Data"
   ]
  },
  {
   "cell_type": "code",
   "execution_count": 3,
   "id": "b4abbfe1",
   "metadata": {},
   "outputs": [
    {
     "data": {
      "text/plain": [
       "(339448, 152)"
      ]
     },
     "execution_count": 3,
     "metadata": {},
     "output_type": "execute_result"
    }
   ],
   "source": [
    "trainDF0 = pd.read_csv(\"Data/trainDF00001_site.csv\", low_memory=False, encoding=\"utf-8\", memory_map=True)\n",
    "testDF0 = pd.read_csv(\"Data/testDF00001_site.csv\", low_memory=False, encoding=\"utf-8\", memory_map=True)\n",
    "datasetName = 'X-Wines_Users'\n",
    "trainDF = trainDF0.copy().sort_values(by='Date')\n",
    "testDF = trainDF0[trainDF0.UserID<1000].sort_values(by='Date')\n",
    "len(trainDF0), len(testDF0)"
   ]
  },
  {
   "cell_type": "code",
   "execution_count": 4,
   "id": "50adf48f",
   "metadata": {},
   "outputs": [
    {
     "data": {
      "text/plain": [
       "102182"
      ]
     },
     "execution_count": 4,
     "metadata": {},
     "output_type": "execute_result"
    }
   ],
   "source": [
    "trainDF0.UserID.unique().size"
   ]
  },
  {
   "cell_type": "code",
   "execution_count": 5,
   "id": "4d98fdbf",
   "metadata": {},
   "outputs": [
    {
     "data": {
      "text/plain": [
       "15699"
      ]
     },
     "execution_count": 5,
     "metadata": {},
     "output_type": "execute_result"
    }
   ],
   "source": [
    "trainDF0.ItemID.unique().size"
   ]
  },
  {
   "cell_type": "code",
   "execution_count": 6,
   "id": "00f80899",
   "metadata": {},
   "outputs": [
    {
     "data": {
      "text/plain": [
       "152"
      ]
     },
     "execution_count": 6,
     "metadata": {},
     "output_type": "execute_result"
    }
   ],
   "source": [
    "testDF0.UserID.unique().size"
   ]
  },
  {
   "cell_type": "markdown",
   "id": "1a7f4b1c",
   "metadata": {},
   "source": [
    "# Off-line Data"
   ]
  },
  {
   "cell_type": "code",
   "execution_count": 7,
   "id": "84e02e5c",
   "metadata": {},
   "outputs": [
    {
     "name": "stdout",
     "output_type": "stream",
     "text": [
      "(124909, 7) (8369, 7) with last sequence: (124909, 7) (83690, 7)\n"
     ]
    }
   ],
   "source": [
    "# opening selected pandas dataframe\n",
    "datasetName = 'X-Wines_Slim'\n",
    "#datasetName = 'MovieLens_1M'\n",
    "\n",
    "if datasetName == 'X-Wines_Slim':\n",
    "    trainDF0 = pd.read_csv(\"Data/slimTrainDF.csv\", low_memory=False, encoding=\"utf-8\", memory_map=True)\n",
    "    testDF0  = pd.read_csv(\"Data/slimTestDF.csv\", low_memory=False, encoding=\"utf-8\", memory_map=True)\n",
    "    \n",
    "    trainDF = trainDF0.copy()\n",
    "    testDF  = pd.read_csv(\"Data/slimTestSeqDF.csv\", low_memory=False, encoding=\"utf-8\", memory_map=True)\n",
    "    print(trainDF0.shape, testDF0.shape, 'with last sequence:', trainDF.shape, testDF.shape)\n",
    "elif datasetName == 'MovieLens_1M':\n",
    "    trainDF0 = pd.read_csv(\"Data/movieTrainDF.csv\", low_memory=False, encoding=\"utf-8\", memory_map=True)\n",
    "    testDF0  = pd.read_csv(\"Data/movieTestDF.csv\", low_memory=False, encoding=\"utf-8\", memory_map=True)\n",
    "    \n",
    "    trainDF = trainDF0.copy()\n",
    "    testDF  = pd.read_csv(\"Data/movieTestSeqDF.csv\", low_memory=False, encoding=\"utf-8\", memory_map=True)\n",
    "    print(trainDF0.shape, testDF0.shape, 'with last sequence:', trainDF.shape, testDF.shape)    \n",
    "else:\n",
    "    print('Dataset inconsistency!!!')"
   ]
  },
  {
   "cell_type": "code",
   "execution_count": 8,
   "id": "67c39e4d",
   "metadata": {},
   "outputs": [
    {
     "data": {
      "text/plain": [
       "8369"
      ]
     },
     "execution_count": 8,
     "metadata": {},
     "output_type": "execute_result"
    }
   ],
   "source": [
    "trainDF0.UserID.unique().size"
   ]
  },
  {
   "cell_type": "code",
   "execution_count": 9,
   "id": "925a8700",
   "metadata": {},
   "outputs": [
    {
     "data": {
      "text/plain": [
       "894"
      ]
     },
     "execution_count": 9,
     "metadata": {},
     "output_type": "execute_result"
    }
   ],
   "source": [
    "trainDF0.ItemID.unique().size"
   ]
  },
  {
   "cell_type": "code",
   "execution_count": 10,
   "id": "b8c4ea58",
   "metadata": {},
   "outputs": [
    {
     "data": {
      "text/plain": [
       "8369"
      ]
     },
     "execution_count": 10,
     "metadata": {},
     "output_type": "execute_result"
    }
   ],
   "source": [
    "testDF0.UserID.unique().size"
   ]
  },
  {
   "cell_type": "markdown",
   "id": "93ee6c68",
   "metadata": {},
   "source": [
    "# X-Model and Classical Collaborative Models"
   ]
  },
  {
   "cell_type": "code",
   "execution_count": 11,
   "id": "9ead15b8",
   "metadata": {},
   "outputs": [],
   "source": [
    "from sklearn.metrics import ndcg_score\n",
    "\n",
    "#useful dataframe functions\n",
    "def getInteractedItemsByUser(userID, df, threshold=0):\n",
    "    return df.loc[(df.UserID==userID) & (df.Rating>=threshold)]['ItemID'].unique()\n",
    "\n",
    "def getNonInteractedItemsByUser(userID, df, threshold=0):\n",
    "    interactedItems = getInteractedItemsByUser(userID, df, threshold=threshold) \n",
    "    nonInteractedItems = (set(df.ItemID.unique()) - set(interactedItems))  # all items (-) iteracted items\n",
    "    return list(nonInteractedItems)\n",
    "\n",
    "def combineFeatures(row={}, features=[]):\n",
    "    combinedFeatures = ''.join(str(row[feature])+' ' for feature in features)  \n",
    "    return combinedFeatures.strip().lower()\n",
    "\n",
    "def ajust5StarsRating(rating): # 5-star ratings {0.5, 1, 1.5, 2, 2.5, 3, 3.5, 4, 4.5, 5}\n",
    "    if rating < 0.5:\n",
    "        return 0.5\n",
    "    elif rating > 5:\n",
    "        return 5.0\n",
    "    else:\n",
    "        decimal = round(rating - int(rating), 1)\n",
    "        if decimal >= 0.8:\n",
    "            rating = int(rating) + 1.0\n",
    "        elif decimal >= 0.3:\n",
    "            rating = int(rating) + 0.5\n",
    "        else:\n",
    "            rating = int(rating)\n",
    "        return round(float(rating),1)\n",
    "\n",
    "# common model\n",
    "class Model:\n",
    "    _ModelName = 'Model'\n",
    "    _recommendation = pd.NA  # _recommendation['UserID', 'Items', 'Weights', 'NextItem'] dtype [int, str(list), str(list), int]\n",
    "\n",
    "    def __call__(self, testDF, addName='')->bool:\n",
    "        try:\n",
    "            # create the output recommendation space \n",
    "            self._recommendation = pd.DataFrame(testDF.UserID.unique(), columns=['UserID'])    \n",
    "            # add NextItem for evaluate\n",
    "            self._recommendation = pd.merge(self._recommendation, testDF[['UserID', 'ItemID']], on=['UserID'], how='left')\\\n",
    "                                        .rename(columns={'ItemID': 'NextItem'})\n",
    "            # fields Items and Weights to be filled by method recommender()\n",
    "            self._recommendation['Items'] = pd.NA\n",
    "            self._recommendation['Weights'] = pd.NA  \n",
    "            self._ModelName += addName\n",
    "            print(self._ModelName, 'was created for', len(self._recommendation), 'user next item')\n",
    "            return True\n",
    "        except:\n",
    "            print(self._ModelName + addName, 'was not created')\n",
    "        return False\n",
    "    \n",
    "    def getName(self)->str:\n",
    "        return self._ModelName\n",
    "    \n",
    "    def getRecommendations(self)->pd.DataFrame:\n",
    "        return self._recommendation\n",
    "    \n",
    "    def getRecommendationByUser(self, userID=0, topN=10)->set:\n",
    "        try:\n",
    "            if (topN not in range(1, 51) or int(userID)<=0):\n",
    "                print(self._ModelName, 'need top-N between 1-training:50 and a valid user ID')\n",
    "                return {'nop': -1}\n",
    "            listItems = eval(self._recommendation.loc[self._recommendation.UserID==userID]['Items'].values[0])[:topN]              \n",
    "            return {\"Name\": self._ModelName, \"UserID\": userID, \"Top-\"+str(topN): listItems}\n",
    "        except:\n",
    "            print('Dataset inconsistency, need to run recommender method first.')\n",
    "        return {'nop': -1}\n",
    "    \n",
    "    # Evaluation: 1 and position>=0 if matched between set of items recomendation and set of itemsID test(here = |1|) or\n",
    "    #             0 and position=-1 if not matched, for that user.\n",
    "    def _hitTopN(self, nextItemID, recommendation, topN=10)->tuple:\n",
    "        for item in list(enumerate(recommendation))[:topN]: # (0, itemID0) (1, itemID1)... topN\n",
    "            if item[1]==nextItemID:\n",
    "                return 1, item[0]\n",
    "        return 0, -100\n",
    "\n",
    "    # processing global average for Precision@topN, Recall@topN, F1-Score@topN\n",
    "    def _evaluateTopN(self, topN=10)->tuple:\n",
    "        hitSumP, hitSumR, hitSumRR, hitSumAP, f1Score, hitSumnDCG = 0.0, 0.0, 0.0, 0.0, 0.0, 0.0\n",
    "        totalUsers = float(len(self._recommendation))\n",
    "        #relevance = np.asarray([np.arange(1, topN+1)[::-1]])  # inverse positions relevance\n",
    "        for index, row in  self._recommendation.iterrows():   # for each user do\n",
    "            hit, position = self._hitTopN(row.NextItem, eval(row.Items), topN)\n",
    "            # Precision\n",
    "            hitSumP += hit * (1/topN)\n",
    "            # Recall\n",
    "            hitSumR += hit  #hitSum += hit*(1/len(user Test set)) here = |1|\n",
    "            # MAP\n",
    "            hitSumAP += hit * (1/(position + 1)) # here = |1|  ????  MAP=MRR where |1|\n",
    "            # MRR\n",
    "            hitSumRR += hit * (1/(position + 1)) # here = |1|\n",
    "            # nDGC      \n",
    "            if hit==1:\n",
    "                if topN==1:\n",
    "                    hitSumnDCG += 1\n",
    "                else:\n",
    "                    scores = np.repeat(0, topN)\n",
    "                    scores[position] = 1 \n",
    "                    relevance = np.asarray([sorted(scores, reverse=True)])\n",
    "                    scores = np.asarray([scores])\n",
    "                    hitSumnDCG += ndcg_score(relevance, scores, k=topN)\n",
    "            \n",
    "        precision = float(hitSumP/totalUsers)\n",
    "        recall    = float(hitSumR/totalUsers)\n",
    "        MAP       = float(hitSumAP/totalUsers)  \n",
    "        MRR       = float(hitSumRR/totalUsers)\n",
    "        nDCG      = float(hitSumnDCG/totalUsers)\n",
    "        if (precision + recall) > 0:  # avoid division by zero\n",
    "            f1Score = float(2 * (precision * recall)/(precision + recall))\n",
    "        return round(precision, 6), round(recall, 6), round(f1Score, 6), round(MAP, 6), round(MRR, 6), round(nDCG, 6)\n",
    "    \n",
    "    def evaluate(self, topN=10)->set:\n",
    "        try:\n",
    "            if (topN not in range(1, 51)):\n",
    "                print(self._ModelName, 'need run recommender method and top-N between 1-training:50')\n",
    "                return {'nop': -1}\n",
    "            print('processing evaluate', \"Top-\"+str(topN), '...', end='')\n",
    "            precision, recall, f1Score, MAP, MRR, nDCG = self._evaluateTopN(topN)\n",
    "            result = {\"Name\":self._ModelName, \"P@\"+str(topN):precision, \"R@\"+str(topN):recall, \"F1@\"+str(topN):f1Score, \\\n",
    "                      \"MAP@\"+str(topN):MAP, \"MRR@\"+str(topN):MRR, \"NDCG@\"+str(topN):nDCG}\n",
    "            print(result)\n",
    "            return result\n",
    "        except:\n",
    "            print('Evaluator inconsistency, need to run recommender method first.')\n",
    "        return {'nop': -1}\n",
    "    \n",
    "    #Method to be rewritten by inheritance to fill _recommendation\n",
    "    def recommender(self, topN=10)->bool:\n",
    "        print('This recommender needs to be redefined with the heuristic to generate recommendation.')\n",
    "        return False   "
   ]
  },
  {
   "cell_type": "code",
   "execution_count": 12,
   "id": "5f2d903f",
   "metadata": {},
   "outputs": [],
   "source": [
    "# NearestNeighbors"
   ]
  },
  {
   "cell_type": "code",
   "execution_count": 13,
   "id": "33be464a",
   "metadata": {},
   "outputs": [],
   "source": [
    "from scipy.sparse import csr_matrix\n",
    "from sklearn.neighbors import NearestNeighbors\n",
    "\n",
    "class NearestNeighborsModel(Model):\n",
    "    _ModelName = 'NearestNeighbors'\n",
    "    \n",
    "    def __init__(self, xDF, yDF, addName=''):\n",
    "        try:\n",
    "            if (not set(['UserID', 'ItemID', 'Rating']).issubset(xDF.columns) or not set(['UserID','ItemID']).issubset(yDF.columns)):\n",
    "                print(\"dataset inconsistency, need columns as ['UserID', 'ItemID', 'Rating']\")\n",
    "                return None\n",
    "            self._train = xDF[['UserID', 'ItemID', 'Rating']]\n",
    "            self._recommendation, self._matrixFactorization, self._model, self._indexItemID = pd.NA, pd.NA, pd.NA, pd.NA\n",
    "            self.__call__(yDF, addName)\n",
    "            return\n",
    "        except:\n",
    "            print('dataset inconsistency')\n",
    "            return None          \n",
    "    \n",
    "    def getMatrixFactorization(self)->pd.DataFrame:\n",
    "        return self._matrixFactorization\n",
    "    \n",
    "    def _itemMoreSimilarFromItemID(self, itemID, topN=50)-> (list, list):\n",
    "        index = self._indexItemID[self._indexItemID.values==itemID].index[0]\n",
    "        distances, suggestions = self._model.kneighbors( self._matrixFactorization.iloc[index, :].values.reshape(1, -1))\n",
    "        return self._matrixFactorization.index[suggestions[0].tolist()[1:topN+1]], distances[0].tolist()[1:topN+1]\n",
    "    \n",
    "    def _computeNearestNeighbors(self, n_neighbors=50):\n",
    "        self._train = self._train.drop_duplicates(['UserID', 'ItemID'], keep='last')\n",
    "        # pivoting treatment        \n",
    "        self._matrixFactorization = self._train.pivot(columns='UserID', index='ItemID', values='Rating').fillna(0)\n",
    "        # sparsivity treatment\n",
    "        pivotSparse = csr_matrix(self._matrixFactorization.values)\n",
    "        self._model = NearestNeighbors(algorithm='auto', metric='cosine', n_neighbors=n_neighbors)\n",
    "        self._model.fit(pivotSparse)\n",
    "        self._indexItemID = self._matrixFactorization.reset_index()['ItemID']\n",
    "        return\n",
    "    \n",
    "    def recommender(self, topN=50, plus='Short')->bool:\n",
    "        try:\n",
    "            if (topN not in range(1, 51)):\n",
    "                self._recommendation, self._matrixFactorization, self._model, self._indexItemID = pd.NA, pd.NA, pd.NA, pd.NA\n",
    "                print(self._ModelName, 'need top-N in 0-50')\n",
    "                return False\n",
    "            self._ModelName = self._ModelName+\"-\"+plus if len(plus)>0 else self._ModelName\n",
    "            print(self._ModelName, 'processing recommender...')\n",
    "            self._computeNearestNeighbors(topN) # -> _itemMoreSimilarFromItemID(itemID)\n",
    "\n",
    "            # produces a set of recommendations for each tested user\n",
    "            self._recommendation['Items'] = pd.NA\n",
    "            self._recommendation['Weights'] = pd.NA\n",
    "            for index, row in tqdm(self._recommendation.iterrows(), total=self._recommendation.shape[0]):\n",
    "                interactedItemsByUser = getInteractedItemsByUser(row.UserID, self._train, threshold=0) # (-) iteracted items\n",
    "                similarItemsIDs, similarItemsVal = [], []\n",
    "                if plus=='Long':\n",
    "                    for interactedItem in list(interactedItemsByUser)[-10:]:  # sequential recommender\n",
    "                        similarItemsIDsByUser, similarItemsValByUser = self._itemMoreSimilarFromItemID(interactedItem, 10) \n",
    "                        similarItemsIDs += list(similarItemsIDsByUser)\n",
    "                        similarItemsVal += list(similarItemsValByUser)\n",
    "                else:                       \n",
    "                    lastItemID = list(interactedItemsByUser)[-2:-1]\n",
    "                    similarItemsIDs, similarItemsVal = self._itemMoreSimilarFromItemID(lastItemID, topN)  \n",
    "\n",
    "                predictionsItemsByUser = pd.DataFrame({'ItemID': similarItemsIDs, 'Distance': similarItemsVal}) \\\n",
    "                                .sort_values(by='Distance', ascending=True).drop_duplicates(subset=['ItemID'], keep='first')\n",
    "                predictionsItemsByUser = predictionsItemsByUser.reset_index(drop=True).head(topN)\n",
    "                self._recommendation.at[index, 'Items']   = str(list(predictionsItemsByUser.ItemID))\n",
    "                self._recommendation.at[index, 'Weights'] = str([1.0-x for x in list(predictionsItemsByUser.Distance)])\n",
    "            return True\n",
    "        except ValueError:\n",
    "            self._recommendation, self._matrixFactorization, self._model, self._indexItemID = pd.NA, pd.NA, pd.NA, pd.NA\n",
    "            print('recommender inconsistency', ValueError)\n",
    "        return False"
   ]
  },
  {
   "cell_type": "code",
   "execution_count": null,
   "id": "5fae56ed",
   "metadata": {},
   "outputs": [],
   "source": []
  },
  {
   "cell_type": "code",
   "execution_count": 14,
   "id": "af6b8b71",
   "metadata": {},
   "outputs": [],
   "source": [
    "# Collaborative-Filtering"
   ]
  },
  {
   "cell_type": "code",
   "execution_count": 15,
   "id": "952d332d",
   "metadata": {},
   "outputs": [],
   "source": [
    "from scipy.sparse import csr_matrix \n",
    "from scipy.sparse.linalg import svds\n",
    "from surprise import *\n",
    "\n",
    "class CollaborativeFilteringModel(Model):\n",
    "    _ModelName = 'Collaborative Filtering'\n",
    "    \n",
    "    def __init__(self, xDF, yDF, addName=''):\n",
    "        try:\n",
    "            if (not set(['UserID', 'ItemID', 'Rating']).issubset(xDF.columns) or not set(['UserID','ItemID']).issubset(yDF.columns)):\n",
    "                print(\"dataset inconsistency, need columns as ['UserID', 'ItemID', 'Rating']\")\n",
    "                return None\n",
    "            self._train = xDF\n",
    "            self._recommendation, self._matrixFactorization = pd.NA, pd.NA\n",
    "            self.__call__(yDF, addName)\n",
    "            return \n",
    "        except:\n",
    "            print('dataset inconsistency')\n",
    "        return None           \n",
    "    \n",
    "    def getMatrixFactorization(self)->pd.DataFrame:\n",
    "        return self._matrixFactorization\n",
    "    \n",
    "    def _computeMatrixFactorizationSVD(self, predict=False, nFactors=20):\n",
    "        self._train = self._train.drop_duplicates(['UserID', 'ItemID'], keep='last')\n",
    "        # pivoting treatment        \n",
    "        self._matrixFactorization = self._train.pivot(index='UserID', columns='ItemID', values='Rating').fillna(0)\n",
    "        matrixColumns = self._matrixFactorization.columns\n",
    "        matrixIndexes = self._matrixFactorization.index      \n",
    "        if predict==True:   \n",
    "            reader = Reader(rating_scale=(self._train.Rating.min(), self._train.Rating.max()))\n",
    "            data = Dataset.load_from_df(self._train[['UserID', 'ItemID', 'Rating']], reader)\n",
    "            algo =  SVDpp(lr_all=0.5) # [SVD(), SVDpp(), SlopeOne(), NMF(), NormalPredictor(), KNNBaseline(), KNNBasic(), KNNWithMeans(), KNNWithZScore(), BaselineOnly(), CoClustering()]):\n",
    "            algo.fit(data.build_full_trainset())\n",
    "            for col in tqdm(matrixColumns):\n",
    "                self._matrixFactorization[col] = [ algo.predict(uid=index, iid=col).est if (value==0) else value \\\n",
    "                                                  for index, value in zip(matrixIndexes, self._matrixFactorization[col])]\n",
    "            self._matrixFactorization = self._matrixFactorization.transpose()\n",
    "        else:\n",
    "            # sparsivity treatment\n",
    "            self._matrixFactorization = csr_matrix(self._matrixFactorization.values)\n",
    "            # factorization of the original user-item matrix by partial singular value decomposition (SVD)\n",
    "            u, s, vh = svds(self._matrixFactorization, k=nFactors) # MxN, where u=unitary matrix(M, k), s=singular value, vh=unitary matrix (k, N)\n",
    "            s = np.diag(s) # extract a diagonal (k, k)\n",
    "            # matrix reconstruction based on dot product of two arrays to approximate ratings\n",
    "            self._matrixFactorization = np.dot(np.dot(u, s), vh)  #np.round(u.dot(np.diag(s).dot(vt)))\n",
    "            # to dataframe\n",
    "            self._matrixFactorization = pd.DataFrame(self._matrixFactorization, columns=matrixColumns, index=matrixIndexes).transpose()\n",
    "        \n",
    "        # normalization (0-1)\n",
    "        self._matrixFactorization = ( self._matrixFactorization - self._matrixFactorization.min() ) /  \\\n",
    "                                    ( self._matrixFactorization.max() - self._matrixFactorization.min() )    \n",
    "        return\n",
    "    \n",
    "    def recommender(self, topN=50, predict=False, nFactors=20)->bool:\n",
    "        try:\n",
    "            if (topN not in range(1, 51)):\n",
    "                self._recommendation, self._matrixFactorization = pd.NA, pd.NA\n",
    "                print(self._ModelName, 'need top-N in 0-50')\n",
    "                return False\n",
    "            if predict:\n",
    "                self._ModelName+=\"-SVDpp\"\n",
    "\n",
    "            print(self._ModelName, 'processing recommender...')\n",
    "\n",
    "            self._computeMatrixFactorizationSVD(predict, nFactors)\n",
    "            \n",
    "            # produces a set of recommendations for each tested user\n",
    "            self._recommendation['Items'] = pd.NA\n",
    "            self._recommendation['Weights'] = pd.NA\n",
    "            for index, row in tqdm(self._recommendation.iterrows(), total=self._recommendation.shape[0]):\n",
    "                predictionsItemsByUser = self._matrixFactorization[row.UserID].sort_values(ascending = False) \\\n",
    "                                                .reset_index().rename(columns={row.UserID: 'Weight'})\n",
    "                # Removing items already seen\n",
    "                interactedItemsByUser = getInteractedItemsByUser(row.UserID, self._train, threshold=0) \n",
    "                predictionsItemsByUser.loc[predictionsItemsByUser.ItemID.apply(lambda x: x not in interactedItemsByUser)] # (-) iteracted items\n",
    "                predictionsItemsByUser = predictionsItemsByUser.sort_values('Weight', ascending = False).head(topN)               \n",
    "                self._recommendation.loc[index, 'Items'] = str(list(predictionsItemsByUser.ItemID))\n",
    "                self._recommendation.loc[index, 'Weights'] = str(list(predictionsItemsByUser.Weight))\n",
    "            return True\n",
    "        except ValueError:\n",
    "            self._recommendation, self._matrixFactorization = pd.NA, pd.NA\n",
    "            print('dataset inconsistency', ValueError)\n",
    "        return False"
   ]
  },
  {
   "cell_type": "code",
   "execution_count": 16,
   "id": "295c0705",
   "metadata": {},
   "outputs": [],
   "source": [
    "# Content-based filtering"
   ]
  },
  {
   "cell_type": "code",
   "execution_count": 17,
   "id": "16acd010",
   "metadata": {},
   "outputs": [],
   "source": [
    "from sklearn.feature_extraction.text import CountVectorizer\n",
    "from sklearn.metrics.pairwise import cosine_distances, euclidean_distances, haversine_distances, manhattan_distances \n",
    "# greater similarity is achieved with less distance ex. cosine_similarity = 1 - cosine_distances(A, B)\n",
    "\n",
    "from sklearn.feature_extraction.text import TfidfVectorizer\n",
    "\n",
    "class ContentFilteringModel(Model):\n",
    "    _ModelName = 'Content-based Filtering'\n",
    "    \n",
    "    def __init__(self, xDF, yDF, itemsDF, featuresDF=['ItemID'], addName=''):\n",
    "        try:\n",
    "            if (not set(['UserID', 'ItemID', 'Rating']).issubset(xDF.columns) or not set(['UserID', 'ItemID']).issubset(yDF.columns) \\\n",
    "               #or not set(['ItemID', 'Type', 'Body', 'Acidity']).issubset(itemsDF.columns)):\n",
    "                or not set(['ItemID']).issubset(itemsDF.columns)):\n",
    "                print(\"dataset inconsistency, need columns as ['UserID', 'ItemID', 'Rating'] and item features\")\n",
    "                return None\n",
    "            self._train, self._itemsDF, self._features = xDF, itemsDF, featuresDF\n",
    "            self._matrixSimilarity = pd.NA\n",
    "            self.__call__(yDF, addName)\n",
    "            return \n",
    "        except ValueError:\n",
    "            print('dataset inconsistency', ValueError)\n",
    "        return None           \n",
    "    \n",
    "    def getMatrixSimilarity(self)->pd.DataFrame:\n",
    "        return self._matrixSimilarity\n",
    "    \n",
    "    def _computeMatrixSimilarity(self, distance='cosine'):\n",
    "        self._itemsDF = self._itemsDF.fillna('').sort_values(by=['ItemID']).reset_index(drop=True)\n",
    "        self._itemsDF[\"combinedFeatures\"] = self._itemsDF.apply(lambda a: combineFeatures(a, self._features), axis=1)\n",
    "\n",
    "        cv = CountVectorizer(stop_words='english', lowercase=True)   \n",
    "        countVector = cv.fit_transform(self._itemsDF[\"combinedFeatures\"])\n",
    "        #tfidf = TfidfVectorizer(stop_words='english', lowercase=True)\n",
    "        #countVector = tfidf.fit_transform(self._itemsDF[\"combinedFeatures\"])\n",
    "        \n",
    "        if distance=='euclidian':\n",
    "            matrixDistance = euclidean_distances(countVector)\n",
    "        elif distance=='manhattan':\n",
    "            matrixDistance = manhattan_distances(countVector)           \n",
    "        elif distance=='haversine':\n",
    "            matrixDistance = haversine_distances(countVector)\n",
    "        else:\n",
    "            matrixDistance = cosine_distances(countVector)\n",
    "        # normalize (0-1) befor and greater similarity is achieved with less distance  \n",
    "        self._matrixSimilarity = 1.0 - ((matrixDistance - matrixDistance.min())/(matrixDistance.max() - matrixDistance.min()))\n",
    "        self._matrixSimilarity = pd.DataFrame(self._matrixSimilarity.astype(float), columns=self._itemsDF.ItemID, index=self._itemsDF.ItemID)\n",
    "        return\n",
    "        \n",
    "    def recommender(self, distance='cosine', topN=50)->bool:\n",
    "        try:\n",
    "            if (topN not in range(1,51)):\n",
    "                self._recommendation, self._matrixSimilarity = pd.NA, pd.NA\n",
    "                print(self._ModelName, 'need top-N in 0-50')\n",
    "                return False\n",
    "            self._ModelName += '-' + distance\n",
    "            print(self._ModelName, 'processing recommender...')\n",
    "            # 1. used combined items features -> 2. vetorial space -> 3. similarity\n",
    "            self._computeMatrixSimilarity(distance)\n",
    "            \n",
    "            # produces a set of recommendations for each tested user                    \n",
    "            self._recommendation['Items'] = pd.NA\n",
    "            self._recommendation['Weights'] = pd.NA\n",
    "            for index, row in tqdm(self._recommendation.iterrows(), total=self._recommendation.shape[0]):\n",
    "                interactedItemsByUser = getInteractedItemsByUser(row.UserID, self._train, threshold=3.5) # best items\n",
    "                similarItemsIDs = []\n",
    "                similarItemsVal = []\n",
    "                for interactedItem in interactedItemsByUser:\n",
    "                    similarItems = self._matrixSimilarity[interactedItem].sort_values(ascending = False) \n",
    "                    similarItems = similarItems.loc[similarItems.index!=interactedItem].head(30) # relation 1 to 30 (-) same item (diagonal position)\n",
    "                    similarItemsIDs += list(similarItems.index) \n",
    "                    similarItemsVal += list(similarItems.values)\n",
    "                similarItemsByUser = pd.DataFrame({'ItemID': similarItemsIDs, 'Similarity': similarItemsVal}) \\\n",
    "                                .sort_values(by='Similarity', ascending=False).drop_duplicates(subset=['ItemID'], keep='first')\n",
    "                similarItemsByUser = similarItemsByUser.reset_index(drop=True).head(topN)\n",
    "                self._recommendation.loc[index, 'Items'] = str(list(similarItemsByUser.ItemID))\n",
    "                self._recommendation.loc[index, 'Weights'] = str(list(similarItemsByUser.Similarity))\n",
    "            return True\n",
    "        except ValueError:\n",
    "            self._recommendation, self._matrixSimilarity = pd.NA, pd.NA\n",
    "            print('dataset inconsistency', ValueError)\n",
    "        return False"
   ]
  },
  {
   "cell_type": "code",
   "execution_count": 18,
   "id": "83c13716",
   "metadata": {},
   "outputs": [],
   "source": [
    "# Hybrid Filtering"
   ]
  },
  {
   "cell_type": "code",
   "execution_count": 19,
   "id": "9fea06b1",
   "metadata": {},
   "outputs": [],
   "source": [
    "class HybridFilteringModel(Model):\n",
    "    \n",
    "    _ModelName = 'Hybrid Filtering'\n",
    "    \n",
    "    def __init__(self, cfRecommender, cbRecommender, cfRatio=90, cbRatio=10, addName=''):\n",
    "        try:\n",
    "            if ( not set(['UserID', 'NextItem', 'Items', 'Weights']).issubset(cfRecommender.getRecommendations().columns) or \n",
    "                 not set(['UserID', 'NextItem', 'Items', 'Weights']).issubset(cbRecommender.getRecommendations().columns) ):\n",
    "                print(\"dataset inconsistency, need columns as ['UserID','Items','Weights','NextItem'] and ratio (0-100%)\")\n",
    "                return None\n",
    "            cfRec = cfRecommender.getRecommendations().rename(columns={'Items': 'ItemsCF', 'Weights': 'WeightsCF', 'NextItem': 'ItemID'})\n",
    "            cbRec = cbRecommender.getRecommendations().rename(columns={'Items': 'ItemsCB', 'Weights': 'WeightsCB', 'NextItem': 'ItemID'})\n",
    "            self._recommendationsFB = pd.merge(cfRec, cbRec, on=['UserID', 'ItemID'], how='inner')\n",
    "            self._cfRatio = cfRatio\n",
    "            self._cbRatio = cbRatio\n",
    "            self.__call__(self._recommendationsFB[['UserID', 'ItemID']], addName)\n",
    "            self._recommendationsFB = self._recommendationsFB.drop(columns=['ItemID'])\n",
    "            return \n",
    "        except ValueError:\n",
    "            print('dataset inconsistency', ValueError)\n",
    "        return None           \n",
    "        \n",
    "    def recommender(self, topN=50)->bool:\n",
    "        try:\n",
    "            if (topN not in range(1,51)):\n",
    "                self._recommendation = pd.NA\n",
    "                print(self._ModelName, 'need top-N in 0-50')\n",
    "                return False\n",
    "            \n",
    "            print(self._ModelName, 'processing recommender...')\n",
    "            # produces a set of recommendations for each tested user   \n",
    "            self._recommendation['Items'] = pd.NA\n",
    "            self._recommendation['Weights'] = pd.NA\n",
    "            for index, row in tqdm(self._recommendation.iterrows(), total=self._recommendation.shape[0]): \n",
    "                recByUser = self._recommendationsFB.loc[self._recommendationsFB.UserID==row.UserID][:1].reset_index(drop=True)\n",
    "                                                 \n",
    "                recCFByUser = pd.DataFrame({'ItemID': eval(recByUser.ItemsCF[0]), 'WeightCF': eval(recByUser.WeightsCF[0])})\n",
    "                recCBByUser = pd.DataFrame({'ItemID': eval(recByUser.ItemsCB[0]), 'WeightCB': eval(recByUser.WeightsCB[0])})\n",
    "                \n",
    "                recByUser = pd.merge(recCFByUser, recCBByUser, how='outer', on=['ItemID']).fillna(0.0)\n",
    "                recByUser['Weight'] = (recByUser.WeightCB * self._cbRatio) + (recByUser.WeightCF * self._cfRatio)\n",
    "                recByUser = recByUser.sort_values(by=['Weight'], ascending=False).head(topN)\n",
    "\n",
    "                self._recommendation.loc[index, 'Items'] = str(list(recByUser.ItemID))\n",
    "                self._recommendation.loc[index, 'Weights'] = str(list(recByUser.Weight))\n",
    "            return True\n",
    "        except ValueError:\n",
    "            self._recommendation = pd.NA\n",
    "            print('dataset inconsistency', ValueError)\n",
    "        return False"
   ]
  },
  {
   "cell_type": "code",
   "execution_count": 20,
   "id": "16898a38",
   "metadata": {},
   "outputs": [],
   "source": [
    "# Random and Pop"
   ]
  },
  {
   "cell_type": "code",
   "execution_count": 21,
   "id": "8edc2321",
   "metadata": {},
   "outputs": [],
   "source": [
    "import random\n",
    "\n",
    "class SimpleModel(Model):\n",
    "    _ModelName = 'Simple'\n",
    "    _SEED = 256\n",
    "    \n",
    "    def __init__(self, xDF, yDF, addName=''):\n",
    "        try:\n",
    "            if (not set(['UserID','ItemID']).issubset(xDF.columns) or not set(['UserID','ItemID']).issubset(yDF.columns)):\n",
    "                print(\"dataset inconsistency, need columns ['UserID','ItemID']\")\n",
    "                return None\n",
    "            self._train = xDF\n",
    "            self._recommendation = pd.NA\n",
    "            random.seed(self._SEED)\n",
    "            self.__call__(yDF, addName)\n",
    "            return\n",
    "        except ValueError:\n",
    "            print('dataset inconsistency', ValueError)\n",
    "        return None\n",
    "    \n",
    "    def _getRandomItemsBetweenAllItems(self, size=50, seed=_SEED):\n",
    "        return random.choices(self._train.ItemID.unique(), k=size)\n",
    "    \n",
    "    def _getNonInteractedRandomItemsByUser(self, userID, size=50, seed=_SEED):\n",
    "        nonInteractedItems = getNonInteractedItemsByUser(userID, self._train, threshold=0) # (-) iteracted items)\n",
    "        return random.choices(nonInteractedItems, k=size)\n",
    "    \n",
    "    def _getNonInteractedPopularityItemsByUser(self, userID, size=50):\n",
    "        nonInteractedItems = getNonInteractedItemsByUser(userID, self._train, threshold=0) # (-) iteracted items)\n",
    "        df = pd.merge(self._train[['ItemID', 'Rating']], pd.DataFrame(nonInteractedItems, columns=['ItemID']), how='inner', on=['ItemID'])\n",
    "        popularityItems = df.groupby('ItemID')['Rating'].sum().sort_values(ascending=False).reset_index()\n",
    "        return list(popularityItems.head(size)['ItemID'].values)    \n",
    "    \n",
    "    def recommender(self, topN=50, useData='random')->bool:  #useData: 'all', 'noninteract' or noninteract-pop for (-) items interacted by users\n",
    "        try:\n",
    "            if (topN not in range(1,51)):\n",
    "                self._recommendation = pd.NA\n",
    "                print(self._ModelName, 'need top-N in 0-50')\n",
    "                return False\n",
    "            self._ModelName += \"-\" + useData\n",
    "            print(self._ModelName, 'processing recommender...')\n",
    "            \n",
    "            # produces a set of recommendations for each tested user\n",
    "            self._recommendation['Items'] = pd.NA\n",
    "            self._recommendation['Weights'] = pd.NA\n",
    "            for index, row in tqdm(self._recommendation.iterrows(), total=self._recommendation.shape[0]):\n",
    "                if useData=='noninteract':\n",
    "                    self._recommendation.at[index, 'Items'] = str(self._getNonInteractedRandomItemsByUser(userID=row.UserID, size=topN))\n",
    "                elif useData=='noninteract-pop':\n",
    "                    self._recommendation.at[index, 'Items'] = str(self._getNonInteractedPopularityItemsByUser(userID=row.UserID, size=topN))                \n",
    "                else: # all\n",
    "                    self._recommendation.at[index, 'Items'] = str(self._getRandomItemsBetweenAllItems(size=topN))\n",
    "            return True\n",
    "        except ValueError:\n",
    "            self._recommendation = pd.NA\n",
    "            print('dataset inconsistency', ValueError)\n",
    "        return False"
   ]
  },
  {
   "cell_type": "code",
   "execution_count": null,
   "id": "ecfd1720",
   "metadata": {},
   "outputs": [],
   "source": []
  },
  {
   "cell_type": "markdown",
   "id": "c9c036b8",
   "metadata": {},
   "source": [
    "# Test Area"
   ]
  },
  {
   "cell_type": "code",
   "execution_count": 22,
   "id": "95748924",
   "metadata": {},
   "outputs": [
    {
     "name": "stdout",
     "output_type": "stream",
     "text": [
      "Simple was created for 8369 user next item\n",
      "Simple-random processing recommender...\n"
     ]
    },
    {
     "data": {
      "application/vnd.jupyter.widget-view+json": {
       "model_id": "30cc80f10a484ee9b2c82d3744f77d97",
       "version_major": 2,
       "version_minor": 0
      },
      "text/plain": [
       "  0%|          | 0/8369 [00:00<?, ?it/s]"
      ]
     },
     "metadata": {},
     "output_type": "display_data"
    },
    {
     "name": "stdout",
     "output_type": "stream",
     "text": [
      "CPU times: total: 6.17 s\n",
      "Wall time: 13.5 s\n"
     ]
    },
    {
     "data": {
      "text/plain": [
       "True"
      ]
     },
     "execution_count": 22,
     "metadata": {},
     "output_type": "execute_result"
    }
   ],
   "source": [
    "%%time\n",
    "m0 = SimpleModel(trainDF0, testDF0)\n",
    "m0.recommender()"
   ]
  },
  {
   "cell_type": "code",
   "execution_count": 23,
   "id": "fa85afbe",
   "metadata": {},
   "outputs": [
    {
     "data": {
      "text/plain": [
       "{'Name': 'Simple-random',\n",
       " 'UserID': 1000004,\n",
       " 'Top-10': [112923,\n",
       "  101783,\n",
       "  114932,\n",
       "  100025,\n",
       "  103423,\n",
       "  155807,\n",
       "  163101,\n",
       "  181492,\n",
       "  111471,\n",
       "  180089]}"
      ]
     },
     "execution_count": 23,
     "metadata": {},
     "output_type": "execute_result"
    }
   ],
   "source": [
    "m0.getRecommendationByUser(userID=1000004, topN=10)"
   ]
  },
  {
   "cell_type": "code",
   "execution_count": 24,
   "id": "5fabc68c",
   "metadata": {},
   "outputs": [
    {
     "name": "stdout",
     "output_type": "stream",
     "text": [
      "processing evaluate Top-5 ...{'Name': 'Simple-random', 'P@5': 0.001195, 'R@5': 0.005974, 'F1@5': 0.001991, 'MAP@5': 0.002505, 'MRR@5': 0.002505, 'NDCG@5': 0.003401}\n"
     ]
    },
    {
     "data": {
      "text/plain": [
       "{'Name': 'Simple-random',\n",
       " 'P@5': 0.001195,\n",
       " 'R@5': 0.005974,\n",
       " 'F1@5': 0.001991,\n",
       " 'MAP@5': 0.002505,\n",
       " 'MRR@5': 0.002505,\n",
       " 'NDCG@5': 0.003401}"
      ]
     },
     "execution_count": 24,
     "metadata": {},
     "output_type": "execute_result"
    }
   ],
   "source": [
    "m0.evaluate(5)"
   ]
  },
  {
   "cell_type": "code",
   "execution_count": null,
   "id": "2828c66f",
   "metadata": {},
   "outputs": [],
   "source": []
  },
  {
   "cell_type": "code",
   "execution_count": 25,
   "id": "a49b5de5",
   "metadata": {},
   "outputs": [
    {
     "name": "stdout",
     "output_type": "stream",
     "text": [
      "Simple was created for 8369 user next item\n",
      "Simple-noninteract processing recommender...\n"
     ]
    },
    {
     "data": {
      "application/vnd.jupyter.widget-view+json": {
       "model_id": "41c4c0b888c5433e95604ad070ecb8e9",
       "version_major": 2,
       "version_minor": 0
      },
      "text/plain": [
       "  0%|          | 0/8369 [00:00<?, ?it/s]"
      ]
     },
     "metadata": {},
     "output_type": "display_data"
    },
    {
     "name": "stdout",
     "output_type": "stream",
     "text": [
      "CPU times: total: 9.23 s\n",
      "Wall time: 20.2 s\n"
     ]
    },
    {
     "data": {
      "text/plain": [
       "True"
      ]
     },
     "execution_count": 25,
     "metadata": {},
     "output_type": "execute_result"
    }
   ],
   "source": [
    "%%time\n",
    "m1 = SimpleModel(trainDF0, testDF0)\n",
    "m1.recommender(useData='noninteract')"
   ]
  },
  {
   "cell_type": "code",
   "execution_count": 26,
   "id": "99b6c901",
   "metadata": {},
   "outputs": [
    {
     "name": "stdout",
     "output_type": "stream",
     "text": [
      "Simple was created for 8369 user next item\n",
      "Simple-noninteract-pop processing recommender...\n"
     ]
    },
    {
     "data": {
      "application/vnd.jupyter.widget-view+json": {
       "model_id": "dd3e344498d847dc99c8e2663e9cf042",
       "version_major": 2,
       "version_minor": 0
      },
      "text/plain": [
       "  0%|          | 0/8369 [00:00<?, ?it/s]"
      ]
     },
     "metadata": {},
     "output_type": "display_data"
    },
    {
     "name": "stdout",
     "output_type": "stream",
     "text": [
      "CPU times: total: 1min 16s\n",
      "Wall time: 2min 31s\n"
     ]
    },
    {
     "data": {
      "text/plain": [
       "True"
      ]
     },
     "execution_count": 26,
     "metadata": {},
     "output_type": "execute_result"
    }
   ],
   "source": [
    "%%time\n",
    "m2 = SimpleModel(trainDF0, testDF0)\n",
    "m2.recommender(useData='noninteract-pop')"
   ]
  },
  {
   "cell_type": "code",
   "execution_count": 27,
   "id": "73f61470",
   "metadata": {},
   "outputs": [
    {
     "name": "stdout",
     "output_type": "stream",
     "text": [
      "Collaborative Filtering was created for 8369 user next item\n",
      "Collaborative Filtering processing recommender...\n"
     ]
    },
    {
     "data": {
      "application/vnd.jupyter.widget-view+json": {
       "model_id": "a90eeab8ae904d16bd6470e6adf413ba",
       "version_major": 2,
       "version_minor": 0
      },
      "text/plain": [
       "  0%|          | 0/8369 [00:00<?, ?it/s]"
      ]
     },
     "metadata": {},
     "output_type": "display_data"
    },
    {
     "name": "stdout",
     "output_type": "stream",
     "text": [
      "CPU times: total: 19.4 s\n",
      "Wall time: 45.5 s\n"
     ]
    },
    {
     "data": {
      "text/plain": [
       "True"
      ]
     },
     "execution_count": 27,
     "metadata": {},
     "output_type": "execute_result"
    }
   ],
   "source": [
    "%%time\n",
    "m3 = CollaborativeFilteringModel(trainDF0, testDF0)\n",
    "m3.recommender()"
   ]
  },
  {
   "cell_type": "code",
   "execution_count": 28,
   "id": "23711a04",
   "metadata": {},
   "outputs": [
    {
     "name": "stdout",
     "output_type": "stream",
     "text": [
      "Collaborative Filtering was created for 8369 user next item\n",
      "Collaborative Filtering-SVDpp processing recommender...\n"
     ]
    },
    {
     "data": {
      "application/vnd.jupyter.widget-view+json": {
       "model_id": "db320df0a5b746328ace1763ee4f21f4",
       "version_major": 2,
       "version_minor": 0
      },
      "text/plain": [
       "  0%|          | 0/894 [00:00<?, ?it/s]"
      ]
     },
     "metadata": {},
     "output_type": "display_data"
    },
    {
     "data": {
      "application/vnd.jupyter.widget-view+json": {
       "model_id": "f345ce3a114a484da64a77946c65cbd1",
       "version_major": 2,
       "version_minor": 0
      },
      "text/plain": [
       "  0%|          | 0/8369 [00:00<?, ?it/s]"
      ]
     },
     "metadata": {},
     "output_type": "display_data"
    },
    {
     "name": "stdout",
     "output_type": "stream",
     "text": [
      "CPU times: total: 1min 31s\n",
      "Wall time: 3min 30s\n"
     ]
    },
    {
     "data": {
      "text/plain": [
       "True"
      ]
     },
     "execution_count": 28,
     "metadata": {},
     "output_type": "execute_result"
    }
   ],
   "source": [
    "%%time\n",
    "m4 = CollaborativeFilteringModel(trainDF0, testDF0)\n",
    "m4.recommender(predict=True)"
   ]
  },
  {
   "cell_type": "code",
   "execution_count": 29,
   "id": "7db27432",
   "metadata": {},
   "outputs": [
    {
     "data": {
      "text/html": [
       "<div>\n",
       "<style scoped>\n",
       "    .dataframe tbody tr th:only-of-type {\n",
       "        vertical-align: middle;\n",
       "    }\n",
       "\n",
       "    .dataframe tbody tr th {\n",
       "        vertical-align: top;\n",
       "    }\n",
       "\n",
       "    .dataframe thead th {\n",
       "        text-align: right;\n",
       "    }\n",
       "</style>\n",
       "<table border=\"1\" class=\"dataframe\">\n",
       "  <thead>\n",
       "    <tr style=\"text-align: right;\">\n",
       "      <th></th>\n",
       "      <th>ItemID</th>\n",
       "      <th>Type</th>\n",
       "      <th>Body</th>\n",
       "      <th>Code</th>\n",
       "      <th>Elaborate</th>\n",
       "    </tr>\n",
       "  </thead>\n",
       "  <tbody>\n",
       "    <tr>\n",
       "      <th>0</th>\n",
       "      <td>100001</td>\n",
       "      <td>Sparkling</td>\n",
       "      <td>Medium-bodied</td>\n",
       "      <td>BR</td>\n",
       "      <td>Varietal/100%</td>\n",
       "    </tr>\n",
       "    <tr>\n",
       "      <th>1</th>\n",
       "      <td>100003</td>\n",
       "      <td>Red</td>\n",
       "      <td>Full-bodied</td>\n",
       "      <td>BR</td>\n",
       "      <td>Varietal/100%</td>\n",
       "    </tr>\n",
       "    <tr>\n",
       "      <th>2</th>\n",
       "      <td>100005</td>\n",
       "      <td>Red</td>\n",
       "      <td>Full-bodied</td>\n",
       "      <td>BR</td>\n",
       "      <td>Assemblage/Bordeaux Red Blend</td>\n",
       "    </tr>\n",
       "    <tr>\n",
       "      <th>3</th>\n",
       "      <td>100007</td>\n",
       "      <td>Sparkling</td>\n",
       "      <td>Medium-bodied</td>\n",
       "      <td>BR</td>\n",
       "      <td>Varietal/100%</td>\n",
       "    </tr>\n",
       "    <tr>\n",
       "      <th>4</th>\n",
       "      <td>100008</td>\n",
       "      <td>Red</td>\n",
       "      <td>Full-bodied</td>\n",
       "      <td>BR</td>\n",
       "      <td>Varietal/100%</td>\n",
       "    </tr>\n",
       "    <tr>\n",
       "      <th>...</th>\n",
       "      <td>...</td>\n",
       "      <td>...</td>\n",
       "      <td>...</td>\n",
       "      <td>...</td>\n",
       "      <td>...</td>\n",
       "    </tr>\n",
       "    <tr>\n",
       "      <th>889</th>\n",
       "      <td>196920</td>\n",
       "      <td>Rosé</td>\n",
       "      <td>Full-bodied</td>\n",
       "      <td>MD</td>\n",
       "      <td>Varietal/100%</td>\n",
       "    </tr>\n",
       "    <tr>\n",
       "      <th>890</th>\n",
       "      <td>196946</td>\n",
       "      <td>Red</td>\n",
       "      <td>Light-bodied</td>\n",
       "      <td>HU</td>\n",
       "      <td>Varietal/100%</td>\n",
       "    </tr>\n",
       "    <tr>\n",
       "      <th>891</th>\n",
       "      <td>197673</td>\n",
       "      <td>Red</td>\n",
       "      <td>Full-bodied</td>\n",
       "      <td>AT</td>\n",
       "      <td>Varietal/100%</td>\n",
       "    </tr>\n",
       "    <tr>\n",
       "      <th>892</th>\n",
       "      <td>197934</td>\n",
       "      <td>White</td>\n",
       "      <td>Medium-bodied</td>\n",
       "      <td>AT</td>\n",
       "      <td>Varietal/100%</td>\n",
       "    </tr>\n",
       "    <tr>\n",
       "      <th>893</th>\n",
       "      <td>198580</td>\n",
       "      <td>White</td>\n",
       "      <td>Medium-bodied</td>\n",
       "      <td>NZ</td>\n",
       "      <td>Varietal/100%</td>\n",
       "    </tr>\n",
       "  </tbody>\n",
       "</table>\n",
       "<p>894 rows × 5 columns</p>\n",
       "</div>"
      ],
      "text/plain": [
       "     ItemID       Type           Body Code                      Elaborate\n",
       "0    100001  Sparkling  Medium-bodied   BR                  Varietal/100%\n",
       "1    100003        Red    Full-bodied   BR                  Varietal/100%\n",
       "2    100005        Red    Full-bodied   BR  Assemblage/Bordeaux Red Blend\n",
       "3    100007  Sparkling  Medium-bodied   BR                  Varietal/100%\n",
       "4    100008        Red    Full-bodied   BR                  Varietal/100%\n",
       "..      ...        ...            ...  ...                            ...\n",
       "889  196920       Rosé    Full-bodied   MD                  Varietal/100%\n",
       "890  196946        Red   Light-bodied   HU                  Varietal/100%\n",
       "891  197673        Red    Full-bodied   AT                  Varietal/100%\n",
       "892  197934      White  Medium-bodied   AT                  Varietal/100%\n",
       "893  198580      White  Medium-bodied   NZ                  Varietal/100%\n",
       "\n",
       "[894 rows x 5 columns]"
      ]
     },
     "execution_count": 29,
     "metadata": {},
     "output_type": "execute_result"
    }
   ],
   "source": [
    "# Read wines\n",
    "itemsDF = pd.read_csv(\"Data/XWines_Full_100K_wines.csv\", low_memory=False, encoding=\"utf-8\", memory_map=True) #XWines_Full_100K_wines.csv\n",
    "# ['WineID', 'WineName', 'Type', 'Elaborate', 'Code', 'Body', 'Acidity', 'ABV']\n",
    "featuresDF = ['Type', 'Body', 'Code', 'Elaborate']\n",
    "\n",
    "itemsDF = itemsDF[['WineID']+featuresDF].rename(columns={'WineID': 'ItemID'})\n",
    "addItem = pd.DataFrame(list(trainDF0.ItemID.unique()), columns=['ItemID'])\n",
    "itemsDF = pd.merge(itemsDF, addItem, on=['ItemID'], how='inner')\n",
    "itemsDF"
   ]
  },
  {
   "cell_type": "code",
   "execution_count": 30,
   "id": "d88c6425",
   "metadata": {},
   "outputs": [
    {
     "name": "stdout",
     "output_type": "stream",
     "text": [
      "Content-based Filtering was created for 8369 user next item\n",
      "Content-based Filtering-cosine processing recommender...\n"
     ]
    },
    {
     "data": {
      "application/vnd.jupyter.widget-view+json": {
       "model_id": "4da9154a666b461f980ce75075b4cd77",
       "version_major": 2,
       "version_minor": 0
      },
      "text/plain": [
       "  0%|          | 0/8369 [00:00<?, ?it/s]"
      ]
     },
     "metadata": {},
     "output_type": "display_data"
    },
    {
     "name": "stdout",
     "output_type": "stream",
     "text": [
      "CPU times: total: 22.7 s\n",
      "Wall time: 46.5 s\n"
     ]
    },
    {
     "data": {
      "text/plain": [
       "True"
      ]
     },
     "execution_count": 30,
     "metadata": {},
     "output_type": "execute_result"
    }
   ],
   "source": [
    "%%time\n",
    "m5 = ContentFilteringModel(trainDF0, testDF0, itemsDF, featuresDF)\n",
    "m5.recommender()"
   ]
  },
  {
   "cell_type": "code",
   "execution_count": 31,
   "id": "40b9c147",
   "metadata": {},
   "outputs": [
    {
     "name": "stdout",
     "output_type": "stream",
     "text": [
      "Content-based Filtering was created for 8369 user next item\n",
      "Content-based Filtering-euclidian processing recommender...\n"
     ]
    },
    {
     "data": {
      "application/vnd.jupyter.widget-view+json": {
       "model_id": "ef596f4e4b7142b8b7155ac1c0f92de2",
       "version_major": 2,
       "version_minor": 0
      },
      "text/plain": [
       "  0%|          | 0/8369 [00:00<?, ?it/s]"
      ]
     },
     "metadata": {},
     "output_type": "display_data"
    },
    {
     "name": "stdout",
     "output_type": "stream",
     "text": [
      "CPU times: total: 19.7 s\n",
      "Wall time: 46.3 s\n"
     ]
    },
    {
     "data": {
      "text/plain": [
       "True"
      ]
     },
     "execution_count": 31,
     "metadata": {},
     "output_type": "execute_result"
    }
   ],
   "source": [
    "%%time\n",
    "m6 = ContentFilteringModel(trainDF0, testDF0, itemsDF, featuresDF)\n",
    "m6.recommender(distance='euclidian')"
   ]
  },
  {
   "cell_type": "code",
   "execution_count": 32,
   "id": "7e4e709a",
   "metadata": {},
   "outputs": [
    {
     "name": "stdout",
     "output_type": "stream",
     "text": [
      "Content-based Filtering was created for 8369 user next item\n",
      "Content-based Filtering-manhattan processing recommender...\n"
     ]
    },
    {
     "data": {
      "application/vnd.jupyter.widget-view+json": {
       "model_id": "4faebc42894d4a26915c70b25843759e",
       "version_major": 2,
       "version_minor": 0
      },
      "text/plain": [
       "  0%|          | 0/8369 [00:00<?, ?it/s]"
      ]
     },
     "metadata": {},
     "output_type": "display_data"
    },
    {
     "name": "stdout",
     "output_type": "stream",
     "text": [
      "CPU times: total: 20.5 s\n",
      "Wall time: 46.3 s\n"
     ]
    },
    {
     "data": {
      "text/plain": [
       "True"
      ]
     },
     "execution_count": 32,
     "metadata": {},
     "output_type": "execute_result"
    }
   ],
   "source": [
    "%%time\n",
    "m7 = ContentFilteringModel(trainDF0, testDF0, itemsDF, featuresDF)\n",
    "m7.recommender(distance='manhattan')"
   ]
  },
  {
   "cell_type": "code",
   "execution_count": 33,
   "id": "29cca854",
   "metadata": {},
   "outputs": [
    {
     "name": "stdout",
     "output_type": "stream",
     "text": [
      "Content-based Filtering was created for 8369 user next item\n",
      "Content-based Filtering-haversine processing recommender...\n"
     ]
    },
    {
     "data": {
      "application/vnd.jupyter.widget-view+json": {
       "model_id": "80ab1d2e762244f699b3392e555f5253",
       "version_major": 2,
       "version_minor": 0
      },
      "text/plain": [
       "  0%|          | 0/8369 [00:00<?, ?it/s]"
      ]
     },
     "metadata": {},
     "output_type": "display_data"
    },
    {
     "name": "stdout",
     "output_type": "stream",
     "text": [
      "CPU times: total: 20.6 s\n",
      "Wall time: 45.4 s\n"
     ]
    },
    {
     "data": {
      "text/plain": [
       "True"
      ]
     },
     "execution_count": 33,
     "metadata": {},
     "output_type": "execute_result"
    }
   ],
   "source": [
    "%%time\n",
    "m8 = ContentFilteringModel(trainDF0, testDF0, itemsDF, featuresDF)\n",
    "m8.recommender(distance='haversine')"
   ]
  },
  {
   "cell_type": "code",
   "execution_count": 34,
   "id": "80f0d932",
   "metadata": {},
   "outputs": [
    {
     "name": "stdout",
     "output_type": "stream",
     "text": [
      "Hybrid Filtering was created for 8369 user next item\n",
      "Hybrid Filtering processing recommender...\n"
     ]
    },
    {
     "data": {
      "application/vnd.jupyter.widget-view+json": {
       "model_id": "322413ba3494474a9caae05144bd2035",
       "version_major": 2,
       "version_minor": 0
      },
      "text/plain": [
       "  0%|          | 0/8369 [00:00<?, ?it/s]"
      ]
     },
     "metadata": {},
     "output_type": "display_data"
    },
    {
     "name": "stdout",
     "output_type": "stream",
     "text": [
      "CPU times: total: 15.3 s\n",
      "Wall time: 34.2 s\n"
     ]
    },
    {
     "data": {
      "text/plain": [
       "True"
      ]
     },
     "execution_count": 34,
     "metadata": {},
     "output_type": "execute_result"
    }
   ],
   "source": [
    "%%time\n",
    "m9 = HybridFilteringModel(m3, m5, 90, 10)\n",
    "m9.recommender()"
   ]
  },
  {
   "cell_type": "code",
   "execution_count": 35,
   "id": "bc9573c9",
   "metadata": {},
   "outputs": [
    {
     "name": "stdout",
     "output_type": "stream",
     "text": [
      "NearestNeighbors was created for 8369 user next item\n",
      "NearestNeighbors-Short processing recommender...\n"
     ]
    },
    {
     "data": {
      "application/vnd.jupyter.widget-view+json": {
       "model_id": "c8e1ee31de7d49fca99566060a1e3562",
       "version_major": 2,
       "version_minor": 0
      },
      "text/plain": [
       "  0%|          | 0/8369 [00:00<?, ?it/s]"
      ]
     },
     "metadata": {},
     "output_type": "display_data"
    },
    {
     "name": "stdout",
     "output_type": "stream",
     "text": [
      "CPU times: total: 10.8 s\n",
      "Wall time: 27.2 s\n"
     ]
    },
    {
     "data": {
      "text/plain": [
       "True"
      ]
     },
     "execution_count": 35,
     "metadata": {},
     "output_type": "execute_result"
    }
   ],
   "source": [
    "%%time\n",
    "m10 = NearestNeighborsModel(trainDF0, testDF0)\n",
    "m10.recommender()"
   ]
  },
  {
   "cell_type": "code",
   "execution_count": 36,
   "id": "0bb26545",
   "metadata": {},
   "outputs": [
    {
     "name": "stdout",
     "output_type": "stream",
     "text": [
      "NearestNeighbors was created for 8369 user next item\n",
      "NearestNeighbors-Long processing recommender...\n"
     ]
    },
    {
     "data": {
      "application/vnd.jupyter.widget-view+json": {
       "model_id": "e9f3e748317343bca7e78b3f959363d9",
       "version_major": 2,
       "version_minor": 0
      },
      "text/plain": [
       "  0%|          | 0/8369 [00:00<?, ?it/s]"
      ]
     },
     "metadata": {},
     "output_type": "display_data"
    },
    {
     "name": "stdout",
     "output_type": "stream",
     "text": [
      "CPU times: total: 1min 14s\n",
      "Wall time: 2min 30s\n"
     ]
    },
    {
     "data": {
      "text/plain": [
       "True"
      ]
     },
     "execution_count": 36,
     "metadata": {},
     "output_type": "execute_result"
    }
   ],
   "source": [
    "%%time\n",
    "m11 = NearestNeighborsModel(trainDF0, testDF0)\n",
    "m11.recommender(plus='Long')"
   ]
  },
  {
   "cell_type": "code",
   "execution_count": 37,
   "id": "6b066ecf",
   "metadata": {},
   "outputs": [
    {
     "data": {
      "application/vnd.jupyter.widget-view+json": {
       "model_id": "ab78af9db8114744b54de51a9ae4a616",
       "version_major": 2,
       "version_minor": 0
      },
      "text/plain": [
       "  0%|          | 0/6 [00:00<?, ?it/s]"
      ]
     },
     "metadata": {},
     "output_type": "display_data"
    },
    {
     "name": "stdout",
     "output_type": "stream",
     "text": [
      "processing evaluate Top-1 ...{'Name': 'Simple-random', 'P@1': 0.000956, 'R@1': 0.000956, 'F1@1': 0.000956, 'MAP@1': 0.000956, 'MRR@1': 0.000956, 'NDCG@1': 0.000956}\n",
      "processing evaluate Top-1 ...{'Name': 'Simple-noninteract', 'P@1': 0.000956, 'R@1': 0.000956, 'F1@1': 0.000956, 'MAP@1': 0.000956, 'MRR@1': 0.000956, 'NDCG@1': 0.000956}\n",
      "processing evaluate Top-1 ...{'Name': 'Simple-noninteract-pop', 'P@1': 0.010157, 'R@1': 0.010157, 'F1@1': 0.010157, 'MAP@1': 0.010157, 'MRR@1': 0.010157, 'NDCG@1': 0.010157}\n",
      "processing evaluate Top-1 ...{'Name': 'Collaborative Filtering', 'P@1': 0.003585, 'R@1': 0.003585, 'F1@1': 0.003585, 'MAP@1': 0.003585, 'MRR@1': 0.003585, 'NDCG@1': 0.003585}\n",
      "processing evaluate Top-1 ...{'Name': 'Collaborative Filtering-SVDpp', 'P@1': 0.004899, 'R@1': 0.004899, 'F1@1': 0.004899, 'MAP@1': 0.004899, 'MRR@1': 0.004899, 'NDCG@1': 0.004899}\n",
      "processing evaluate Top-1 ...{'Name': 'Content-based Filtering-cosine', 'P@1': 0.003585, 'R@1': 0.003585, 'F1@1': 0.003585, 'MAP@1': 0.003585, 'MRR@1': 0.003585, 'NDCG@1': 0.003585}\n",
      "processing evaluate Top-1 ...{'Name': 'Content-based Filtering-euclidian', 'P@1': 0.003107, 'R@1': 0.003107, 'F1@1': 0.003107, 'MAP@1': 0.003107, 'MRR@1': 0.003107, 'NDCG@1': 0.003107}\n",
      "processing evaluate Top-1 ...{'Name': 'Content-based Filtering-manhattan', 'P@1': 0.003346, 'R@1': 0.003346, 'F1@1': 0.003346, 'MAP@1': 0.003346, 'MRR@1': 0.003346, 'NDCG@1': 0.003346}\n",
      "processing evaluate Top-1 ...{'Name': 'Content-based Filtering-haversine', 'P@1': 0.003585, 'R@1': 0.003585, 'F1@1': 0.003585, 'MAP@1': 0.003585, 'MRR@1': 0.003585, 'NDCG@1': 0.003585}\n",
      "processing evaluate Top-1 ...{'Name': 'Hybrid Filtering', 'P@1': 0.002868, 'R@1': 0.002868, 'F1@1': 0.002868, 'MAP@1': 0.002868, 'MRR@1': 0.002868, 'NDCG@1': 0.002868}\n",
      "processing evaluate Top-1 ...{'Name': 'NearestNeighbors-Short', 'P@1': 0.013741, 'R@1': 0.013741, 'F1@1': 0.013741, 'MAP@1': 0.013741, 'MRR@1': 0.013741, 'NDCG@1': 0.013741}\n",
      "processing evaluate Top-1 ...{'Name': 'NearestNeighbors-Long', 'P@1': 0.023061, 'R@1': 0.023061, 'F1@1': 0.023061, 'MAP@1': 0.023061, 'MRR@1': 0.023061, 'NDCG@1': 0.023061}\n",
      "processing evaluate Top-10 ...{'Name': 'Simple-random', 'P@10': 0.001159, 'R@10': 0.01159, 'F1@10': 0.002107, 'MAP@10': 0.003246, 'MRR@10': 0.003246, 'NDCG@10': 0.005143}\n",
      "processing evaluate Top-10 ...{'Name': 'Simple-noninteract', 'P@10': 0.00098, 'R@10': 0.009798, 'F1@10': 0.001781, 'MAP@10': 0.00284, 'MRR@10': 0.00284, 'NDCG@10': 0.004437}\n",
      "processing evaluate Top-10 ...{'Name': 'Simple-noninteract-pop', 'P@10': 0.009177, 'R@10': 0.091767, 'F1@10': 0.016685, 'MAP@10': 0.027561, 'MRR@10': 0.027561, 'NDCG@10': 0.042289}\n",
      "processing evaluate Top-10 ...{'Name': 'Collaborative Filtering', 'P@10': 0.012463, 'R@10': 0.124627, 'F1@10': 0.022659, 'MAP@10': 0.027732, 'MRR@10': 0.027732, 'NDCG@10': 0.051242}\n",
      "processing evaluate Top-10 ...{'Name': 'Collaborative Filtering-SVDpp', 'P@10': 0.001828, 'R@10': 0.018282, 'F1@10': 0.003324, 'MAP@10': 0.007854, 'MRR@10': 0.007854, 'NDCG@10': 0.010168}\n",
      "processing evaluate Top-10 ...{'Name': 'Content-based Filtering-cosine', 'P@10': 0.003417, 'R@10': 0.034174, 'F1@10': 0.006213, 'MAP@10': 0.010222, 'MRR@10': 0.010222, 'NDCG@10': 0.015628}\n",
      "processing evaluate Top-10 ...{'Name': 'Content-based Filtering-euclidian', 'P@10': 0.003358, 'R@10': 0.033576, 'F1@10': 0.006105, 'MAP@10': 0.010056, 'MRR@10': 0.010056, 'NDCG@10': 0.015103}\n",
      "processing evaluate Top-10 ...{'Name': 'Content-based Filtering-manhattan', 'P@10': 0.003382, 'R@10': 0.033815, 'F1@10': 0.006148, 'MAP@10': 0.010157, 'MRR@10': 0.010157, 'NDCG@10': 0.015342}\n",
      "processing evaluate Top-10 ...{'Name': 'Content-based Filtering-haversine', 'P@10': 0.000705, 'R@10': 0.00705, 'F1@10': 0.001282, 'MAP@10': 0.004285, 'MRR@10': 0.004285, 'NDCG@10': 0.004949}\n",
      "processing evaluate Top-10 ...{'Name': 'Hybrid Filtering', 'P@10': 0.011853, 'R@10': 0.118533, 'F1@10': 0.021551, 'MAP@10': 0.026735, 'MRR@10': 0.026735, 'NDCG@10': 0.048408}\n",
      "processing evaluate Top-10 ...{'Name': 'NearestNeighbors-Short', 'P@10': 0.011435, 'R@10': 0.114351, 'F1@10': 0.020791, 'MAP@10': 0.036567, 'MRR@10': 0.036567, 'NDCG@10': 0.053354}\n",
      "processing evaluate Top-10 ...{'Name': 'NearestNeighbors-Long', 'P@10': 0.0149, 'R@10': 0.149002, 'F1@10': 0.027091, 'MAP@10': 0.052691, 'MRR@10': 0.052691, 'NDCG@10': 0.072648}\n",
      "processing evaluate Top-20 ...{'Name': 'Simple-random', 'P@20': 0.001195, 'R@20': 0.023898, 'F1@20': 0.002276, 'MAP@20': 0.004085, 'MRR@20': 0.004085, 'NDCG@20': 0.008249}\n",
      "processing evaluate Top-20 ...{'Name': 'Simple-noninteract', 'P@20': 0.001028, 'R@20': 0.020552, 'F1@20': 0.001957, 'MAP@20': 0.003585, 'MRR@20': 0.003585, 'NDCG@20': 0.007186}\n",
      "processing evaluate Top-20 ...{'Name': 'Simple-noninteract-pop', 'P@20': 0.008764, 'R@20': 0.17529, 'F1@20': 0.016694, 'MAP@20': 0.033287, 'MRR@20': 0.033287, 'NDCG@20': 0.062654}\n",
      "processing evaluate Top-20 ...{'Name': 'Collaborative Filtering', 'P@20': 0.011441, 'R@20': 0.228821, 'F1@20': 0.021792, 'MAP@20': 0.034828, 'MRR@20': 0.034828, 'NDCG@20': 0.075189}\n",
      "processing evaluate Top-20 ...{'Name': 'Collaborative Filtering-SVDpp', 'P@20': 0.001828, 'R@20': 0.036564, 'F1@20': 0.003482, 'MAP@20': 0.009036, 'MRR@20': 0.009036, 'NDCG@20': 0.014965}\n",
      "processing evaluate Top-20 ...{'Name': 'Content-based Filtering-cosine', 'P@20': 0.003495, 'R@20': 0.069901, 'F1@20': 0.006657, 'MAP@20': 0.012575, 'MRR@20': 0.012575, 'NDCG@20': 0.024667}\n",
      "processing evaluate Top-20 ...{'Name': 'Content-based Filtering-euclidian', 'P@20': 0.003119, 'R@20': 0.062373, 'F1@20': 0.00594, 'MAP@20': 0.011998, 'MRR@20': 0.011998, 'NDCG@20': 0.021948}\n",
      "processing evaluate Top-20 ...{'Name': 'Content-based Filtering-manhattan', 'P@20': 0.003119, 'R@20': 0.062373, 'F1@20': 0.00594, 'MAP@20': 0.012084, 'MRR@20': 0.012084, 'NDCG@20': 0.022111}\n",
      "processing evaluate Top-20 ...{'Name': 'Content-based Filtering-haversine', 'P@20': 0.00058, 'R@20': 0.01159, 'F1@20': 0.001104, 'MAP@20': 0.004587, 'MRR@20': 0.004587, 'NDCG@20': 0.00613}\n",
      "processing evaluate Top-20 ...{'Name': 'Hybrid Filtering', 'P@20': 0.011196, 'R@20': 0.223922, 'F1@20': 0.021326, 'MAP@20': 0.033932, 'MRR@20': 0.033932, 'NDCG@20': 0.073143}\n",
      "processing evaluate Top-20 ...{'Name': 'NearestNeighbors-Short', 'P@20': 0.009392, 'R@20': 0.187836, 'F1@20': 0.017889, 'MAP@20': 0.041561, 'MRR@20': 0.041561, 'NDCG@20': 0.069087}\n",
      "processing evaluate Top-20 ...{'Name': 'NearestNeighbors-Long', 'P@20': 0.012403, 'R@20': 0.248058, 'F1@20': 0.023625, 'MAP@20': 0.059416, 'MRR@20': 0.059416, 'NDCG@20': 0.09459}\n",
      "processing evaluate Top-30 ...{'Name': 'Simple-random', 'P@30': 0.001155, 'R@30': 0.034652, 'F1@30': 0.002236, 'MAP@30': 0.004512, 'MRR@30': 0.004512, 'NDCG@30': 0.010439}\n",
      "processing evaluate Top-30 ...{'Name': 'Simple-noninteract', 'P@30': 0.000972, 'R@30': 0.029155, 'F1@30': 0.001881, 'MAP@30': 0.003933, 'MRR@30': 0.003933, 'NDCG@30': 0.008892}\n",
      "processing evaluate Top-30 ...{'Name': 'Simple-noninteract-pop', 'P@30': 0.007811, 'R@30': 0.234317, 'F1@30': 0.015117, 'MAP@30': 0.035623, 'MRR@30': 0.035623, 'NDCG@30': 0.073243}\n",
      "processing evaluate Top-30 ...{'Name': 'Collaborative Filtering', 'P@30': 0.010272, 'R@30': 0.308161, 'F1@30': 0.019881, 'MAP@30': 0.038033, 'MRR@30': 0.038033, 'NDCG@30': 0.089303}\n",
      "processing evaluate Top-30 ...{'Name': 'Collaborative Filtering-SVDpp', 'P@30': 0.001976, 'R@30': 0.059266, 'F1@30': 0.003824, 'MAP@30': 0.009931, 'MRR@30': 0.009931, 'NDCG@30': 0.0202}\n",
      "processing evaluate Top-30 ...{'Name': 'Content-based Filtering-cosine', 'P@30': 0.003441, 'R@30': 0.103238, 'F1@30': 0.006661, 'MAP@30': 0.013912, 'MRR@30': 0.013912, 'NDCG@30': 0.031631}\n",
      "processing evaluate Top-30 ...{'Name': 'Content-based Filtering-euclidian', 'P@30': 0.003011, 'R@30': 0.090333, 'F1@30': 0.005828, 'MAP@30': 0.013114, 'MRR@30': 0.013114, 'NDCG@30': 0.027655}\n",
      "processing evaluate Top-30 ...{'Name': 'Content-based Filtering-manhattan', 'P@30': 0.003043, 'R@30': 0.091289, 'F1@30': 0.00589, 'MAP@30': 0.013248, 'MRR@30': 0.013248, 'NDCG@30': 0.028096}\n",
      "processing evaluate Top-30 ...{'Name': 'Content-based Filtering-haversine', 'P@30': 0.000597, 'R@30': 0.017923, 'F1@30': 0.001156, 'MAP@30': 0.004841, 'MRR@30': 0.004841, 'NDCG@30': 0.00762}\n",
      "processing evaluate Top-30 ...{'Name': 'Hybrid Filtering', 'P@30': 0.010125, 'R@30': 0.30374, 'F1@30': 0.019596, 'MAP@30': 0.03712, 'MRR@30': 0.03712, 'NDCG@30': 0.087543}\n",
      "processing evaluate Top-30 ...{'Name': 'NearestNeighbors-Short', 'P@30': 0.008225, 'R@30': 0.246744, 'F1@30': 0.015919, 'MAP@30': 0.043898, 'MRR@30': 0.043898, 'NDCG@30': 0.079316}\n",
      "processing evaluate Top-30 ...{'Name': 'NearestNeighbors-Long', 'P@30': 0.010654, 'R@30': 0.319632, 'F1@30': 0.020621, 'MAP@30': 0.062291, 'MRR@30': 0.062291, 'NDCG@30': 0.106526}\n",
      "processing evaluate Top-40 ...{'Name': 'Simple-random', 'P@40': 0.001147, 'R@40': 0.045884, 'F1@40': 0.002238, 'MAP@40': 0.004832, 'MRR@40': 0.004832, 'NDCG@40': 0.012581}\n",
      "processing evaluate Top-40 ...{'Name': 'Simple-noninteract', 'P@40': 0.00101, 'R@40': 0.040387, 'F1@40': 0.00197, 'MAP@40': 0.004249, 'MRR@40': 0.004249, 'NDCG@40': 0.011159}\n",
      "processing evaluate Top-40 ...{'Name': 'Simple-noninteract-pop', 'P@40': 0.007325, 'R@40': 0.292986, 'F1@40': 0.014292, 'MAP@40': 0.037306, 'MRR@40': 0.037306, 'NDCG@40': 0.083337}\n",
      "processing evaluate Top-40 ...{'Name': 'Collaborative Filtering', 'P@40': 0.009117, 'R@40': 0.364679, 'F1@40': 0.017789, 'MAP@40': 0.039652, 'MRR@40': 0.039652, 'NDCG@40': 0.097016}\n",
      "processing evaluate Top-40 ...{'Name': 'Collaborative Filtering-SVDpp', 'P@40': 0.001759, 'R@40': 0.070379, 'F1@40': 0.003433, 'MAP@40': 0.010242, 'MRR@40': 0.010242, 'NDCG@40': 0.021842}\n",
      "processing evaluate Top-40 ...{'Name': 'Content-based Filtering-cosine', 'P@40': 0.003295, 'R@40': 0.131796, 'F1@40': 0.006429, 'MAP@40': 0.014722, 'MRR@40': 0.014722, 'NDCG@40': 0.036759}\n",
      "processing evaluate Top-40 ...{'Name': 'Content-based Filtering-euclidian', 'P@40': 0.002999, 'R@40': 0.119967, 'F1@40': 0.005852, 'MAP@40': 0.013956, 'MRR@40': 0.013956, 'NDCG@40': 0.033344}\n",
      "processing evaluate Top-40 ...{'Name': 'Content-based Filtering-manhattan', 'P@40': 0.003005, 'R@40': 0.120206, 'F1@40': 0.005864, 'MAP@40': 0.014071, 'MRR@40': 0.014071, 'NDCG@40': 0.033583}\n",
      "processing evaluate Top-40 ...{'Name': 'Content-based Filtering-haversine', 'P@40': 0.000612, 'R@40': 0.024495, 'F1@40': 0.001195, 'MAP@40': 0.005033, 'MRR@40': 0.005033, 'NDCG@40': 0.008995}\n",
      "processing evaluate Top-40 ...{'Name': 'Hybrid Filtering', 'P@40': 0.009147, 'R@40': 0.365874, 'F1@40': 0.017848, 'MAP@40': 0.038908, 'MRR@40': 0.038908, 'NDCG@40': 0.096794}\n",
      "processing evaluate Top-40 ...{'Name': 'NearestNeighbors-Short', 'P@40': 0.007396, 'R@40': 0.295854, 'F1@40': 0.014432, 'MAP@40': 0.045305, 'MRR@40': 0.045305, 'NDCG@40': 0.086736}\n",
      "processing evaluate Top-40 ...{'Name': 'NearestNeighbors-Long', 'P@40': 0.009499, 'R@40': 0.379974, 'F1@40': 0.018535, 'MAP@40': 0.064009, 'MRR@40': 0.064009, 'NDCG@40': 0.11541}\n",
      "processing evaluate Top-50 ...{'Name': 'Simple-random', 'P@50': 0.001159, 'R@50': 0.057952, 'F1@50': 0.002273, 'MAP@50': 0.005098, 'MRR@50': 0.005098, 'NDCG@50': 0.014795}\n",
      "processing evaluate Top-50 ...{'Name': 'Simple-noninteract', 'P@50': 0.001054, 'R@50': 0.052694, 'F1@50': 0.002066, 'MAP@50': 0.00452, 'MRR@50': 0.00452, 'NDCG@50': 0.013519}\n",
      "processing evaluate Top-50 ...{'Name': 'Simple-noninteract-pop', 'P@50': 0.006933, 'R@50': 0.346636, 'F1@50': 0.013594, 'MAP@50': 0.038491, 'MRR@50': 0.038491, 'NDCG@50': 0.091857}\n",
      "processing evaluate Top-50 ...{'Name': 'Collaborative Filtering', 'P@50': 0.008281, 'R@50': 0.414028, 'F1@50': 0.016236, 'MAP@50': 0.040742, 'MRR@50': 0.040742, 'NDCG@50': 0.103245}\n",
      "processing evaluate Top-50 ...{'Name': 'Collaborative Filtering-SVDpp', 'P@50': 0.00169, 'R@50': 0.084478, 'F1@50': 0.003313, 'MAP@50': 0.010554, 'MRR@50': 0.010554, 'NDCG@50': 0.024222}\n",
      "processing evaluate Top-50 ...{'Name': 'Content-based Filtering-cosine', 'P@50': 0.003284, 'R@50': 0.164177, 'F1@50': 0.006438, 'MAP@50': 0.015439, 'MRR@50': 0.015439, 'NDCG@50': 0.042578}\n",
      "processing evaluate Top-50 ...{'Name': 'Content-based Filtering-euclidian', 'P@50': 0.002944, 'R@50': 0.14721, 'F1@50': 0.005773, 'MAP@50': 0.014553, 'MRR@50': 0.014553, 'NDCG@50': 0.038097}\n",
      "processing evaluate Top-50 ...{'Name': 'Content-based Filtering-manhattan', 'P@50': 0.002961, 'R@50': 0.148046, 'F1@50': 0.005806, 'MAP@50': 0.014681, 'MRR@50': 0.014681, 'NDCG@50': 0.038481}\n",
      "processing evaluate Top-50 ...{'Name': 'Content-based Filtering-haversine', 'P@50': 0.000629, 'R@50': 0.031425, 'F1@50': 0.001232, 'MAP@50': 0.005185, 'MRR@50': 0.005185, 'NDCG@50': 0.010345}\n",
      "processing evaluate Top-50 ...{'Name': 'Hybrid Filtering', 'P@50': 0.008276, 'R@50': 0.413789, 'F1@50': 0.016227, 'MAP@50': 0.039965, 'MRR@50': 0.039965, 'NDCG@50': 0.102644}\n",
      "processing evaluate Top-50 ...{'Name': 'NearestNeighbors-Short', 'P@50': 0.006785, 'R@50': 0.339228, 'F1@50': 0.013303, 'MAP@50': 0.046271, 'MRR@50': 0.046271, 'NDCG@50': 0.092773}\n",
      "processing evaluate Top-50 ...{'Name': 'NearestNeighbors-Long', 'P@50': 0.008405, 'R@50': 0.420241, 'F1@50': 0.01648, 'MAP@50': 0.064905, 'MRR@50': 0.064905, 'NDCG@50': 0.119501}\n",
      "CPU times: total: 1min 12s\n",
      "Wall time: 2min 6s\n"
     ]
    }
   ],
   "source": [
    "%%time\n",
    "#Evaluate models\n",
    "topKs = [1, 10, 20, 30, 40, 50]\n",
    "#models = [mX, m0, m1, m2, m3, m4, m5, m6, m7, m8, m9, m10, m11]\n",
    "models = [m0, m1, m2, m3, m4, m5, m6, m7, m8, m9, m10, m11]\n",
    "precisionLabels, recallLabels, f1ScoreLabels, MAPLabels, MRRLabels, nDCGLabels, results = [], [], [], [], [], [], []\n",
    "for k in tqdm(topKs):\n",
    "    for m in models:\n",
    "        results.append(m.evaluate(k))\n",
    "    \n",
    "    precisionLabels.append(\"P@\"+str(k))\n",
    "    recallLabels.append(\"R@\"+str(k))\n",
    "    f1ScoreLabels.append(\"F1@\"+str(k))\n",
    "    MAPLabels.append(\"MAP@\"+str(k))\n",
    "    MRRLabels.append(\"MRR@\"+str(k))\n",
    "    nDCGLabels.append(\"NDCG@\"+str(k))"
   ]
  },
  {
   "cell_type": "code",
   "execution_count": 38,
   "id": "881e274b",
   "metadata": {},
   "outputs": [
    {
     "data": {
      "text/html": [
       "<div>\n",
       "<style scoped>\n",
       "    .dataframe tbody tr th:only-of-type {\n",
       "        vertical-align: middle;\n",
       "    }\n",
       "\n",
       "    .dataframe tbody tr th {\n",
       "        vertical-align: top;\n",
       "    }\n",
       "\n",
       "    .dataframe thead th {\n",
       "        text-align: right;\n",
       "    }\n",
       "</style>\n",
       "<table border=\"1\" class=\"dataframe\">\n",
       "  <thead>\n",
       "    <tr style=\"text-align: right;\">\n",
       "      <th></th>\n",
       "      <th>Name</th>\n",
       "      <th>P@1</th>\n",
       "      <th>R@1</th>\n",
       "      <th>F1@1</th>\n",
       "      <th>MAP@1</th>\n",
       "      <th>MRR@1</th>\n",
       "      <th>NDCG@1</th>\n",
       "      <th>P@10</th>\n",
       "      <th>R@10</th>\n",
       "      <th>F1@10</th>\n",
       "      <th>...</th>\n",
       "      <th>F1@40</th>\n",
       "      <th>MAP@40</th>\n",
       "      <th>MRR@40</th>\n",
       "      <th>NDCG@40</th>\n",
       "      <th>P@50</th>\n",
       "      <th>R@50</th>\n",
       "      <th>F1@50</th>\n",
       "      <th>MAP@50</th>\n",
       "      <th>MRR@50</th>\n",
       "      <th>NDCG@50</th>\n",
       "    </tr>\n",
       "  </thead>\n",
       "  <tbody>\n",
       "    <tr>\n",
       "      <th>0</th>\n",
       "      <td>Collaborative Filtering</td>\n",
       "      <td>0.003585</td>\n",
       "      <td>0.003585</td>\n",
       "      <td>0.003585</td>\n",
       "      <td>0.003585</td>\n",
       "      <td>0.003585</td>\n",
       "      <td>0.003585</td>\n",
       "      <td>0.012463</td>\n",
       "      <td>0.124627</td>\n",
       "      <td>0.022659</td>\n",
       "      <td>...</td>\n",
       "      <td>0.017789</td>\n",
       "      <td>0.039652</td>\n",
       "      <td>0.039652</td>\n",
       "      <td>0.097016</td>\n",
       "      <td>0.008281</td>\n",
       "      <td>0.414028</td>\n",
       "      <td>0.016236</td>\n",
       "      <td>0.040742</td>\n",
       "      <td>0.040742</td>\n",
       "      <td>0.103245</td>\n",
       "    </tr>\n",
       "    <tr>\n",
       "      <th>1</th>\n",
       "      <td>Collaborative Filtering-SVDpp</td>\n",
       "      <td>0.004899</td>\n",
       "      <td>0.004899</td>\n",
       "      <td>0.004899</td>\n",
       "      <td>0.004899</td>\n",
       "      <td>0.004899</td>\n",
       "      <td>0.004899</td>\n",
       "      <td>0.001828</td>\n",
       "      <td>0.018282</td>\n",
       "      <td>0.003324</td>\n",
       "      <td>...</td>\n",
       "      <td>0.003433</td>\n",
       "      <td>0.010242</td>\n",
       "      <td>0.010242</td>\n",
       "      <td>0.021842</td>\n",
       "      <td>0.001690</td>\n",
       "      <td>0.084478</td>\n",
       "      <td>0.003313</td>\n",
       "      <td>0.010554</td>\n",
       "      <td>0.010554</td>\n",
       "      <td>0.024222</td>\n",
       "    </tr>\n",
       "    <tr>\n",
       "      <th>2</th>\n",
       "      <td>Content-based Filtering-cosine</td>\n",
       "      <td>0.003585</td>\n",
       "      <td>0.003585</td>\n",
       "      <td>0.003585</td>\n",
       "      <td>0.003585</td>\n",
       "      <td>0.003585</td>\n",
       "      <td>0.003585</td>\n",
       "      <td>0.003417</td>\n",
       "      <td>0.034174</td>\n",
       "      <td>0.006213</td>\n",
       "      <td>...</td>\n",
       "      <td>0.006429</td>\n",
       "      <td>0.014722</td>\n",
       "      <td>0.014722</td>\n",
       "      <td>0.036759</td>\n",
       "      <td>0.003284</td>\n",
       "      <td>0.164177</td>\n",
       "      <td>0.006438</td>\n",
       "      <td>0.015439</td>\n",
       "      <td>0.015439</td>\n",
       "      <td>0.042578</td>\n",
       "    </tr>\n",
       "    <tr>\n",
       "      <th>3</th>\n",
       "      <td>Content-based Filtering-euclidian</td>\n",
       "      <td>0.003107</td>\n",
       "      <td>0.003107</td>\n",
       "      <td>0.003107</td>\n",
       "      <td>0.003107</td>\n",
       "      <td>0.003107</td>\n",
       "      <td>0.003107</td>\n",
       "      <td>0.003358</td>\n",
       "      <td>0.033576</td>\n",
       "      <td>0.006105</td>\n",
       "      <td>...</td>\n",
       "      <td>0.005852</td>\n",
       "      <td>0.013956</td>\n",
       "      <td>0.013956</td>\n",
       "      <td>0.033344</td>\n",
       "      <td>0.002944</td>\n",
       "      <td>0.147210</td>\n",
       "      <td>0.005773</td>\n",
       "      <td>0.014553</td>\n",
       "      <td>0.014553</td>\n",
       "      <td>0.038097</td>\n",
       "    </tr>\n",
       "    <tr>\n",
       "      <th>4</th>\n",
       "      <td>Content-based Filtering-haversine</td>\n",
       "      <td>0.003585</td>\n",
       "      <td>0.003585</td>\n",
       "      <td>0.003585</td>\n",
       "      <td>0.003585</td>\n",
       "      <td>0.003585</td>\n",
       "      <td>0.003585</td>\n",
       "      <td>0.000705</td>\n",
       "      <td>0.007050</td>\n",
       "      <td>0.001282</td>\n",
       "      <td>...</td>\n",
       "      <td>0.001195</td>\n",
       "      <td>0.005033</td>\n",
       "      <td>0.005033</td>\n",
       "      <td>0.008995</td>\n",
       "      <td>0.000629</td>\n",
       "      <td>0.031425</td>\n",
       "      <td>0.001232</td>\n",
       "      <td>0.005185</td>\n",
       "      <td>0.005185</td>\n",
       "      <td>0.010345</td>\n",
       "    </tr>\n",
       "    <tr>\n",
       "      <th>5</th>\n",
       "      <td>Content-based Filtering-manhattan</td>\n",
       "      <td>0.003346</td>\n",
       "      <td>0.003346</td>\n",
       "      <td>0.003346</td>\n",
       "      <td>0.003346</td>\n",
       "      <td>0.003346</td>\n",
       "      <td>0.003346</td>\n",
       "      <td>0.003382</td>\n",
       "      <td>0.033815</td>\n",
       "      <td>0.006148</td>\n",
       "      <td>...</td>\n",
       "      <td>0.005864</td>\n",
       "      <td>0.014071</td>\n",
       "      <td>0.014071</td>\n",
       "      <td>0.033583</td>\n",
       "      <td>0.002961</td>\n",
       "      <td>0.148046</td>\n",
       "      <td>0.005806</td>\n",
       "      <td>0.014681</td>\n",
       "      <td>0.014681</td>\n",
       "      <td>0.038481</td>\n",
       "    </tr>\n",
       "    <tr>\n",
       "      <th>6</th>\n",
       "      <td>Hybrid Filtering</td>\n",
       "      <td>0.002868</td>\n",
       "      <td>0.002868</td>\n",
       "      <td>0.002868</td>\n",
       "      <td>0.002868</td>\n",
       "      <td>0.002868</td>\n",
       "      <td>0.002868</td>\n",
       "      <td>0.011853</td>\n",
       "      <td>0.118533</td>\n",
       "      <td>0.021551</td>\n",
       "      <td>...</td>\n",
       "      <td>0.017848</td>\n",
       "      <td>0.038908</td>\n",
       "      <td>0.038908</td>\n",
       "      <td>0.096794</td>\n",
       "      <td>0.008276</td>\n",
       "      <td>0.413789</td>\n",
       "      <td>0.016227</td>\n",
       "      <td>0.039965</td>\n",
       "      <td>0.039965</td>\n",
       "      <td>0.102644</td>\n",
       "    </tr>\n",
       "    <tr>\n",
       "      <th>7</th>\n",
       "      <td>NearestNeighbors-Long</td>\n",
       "      <td>0.023061</td>\n",
       "      <td>0.023061</td>\n",
       "      <td>0.023061</td>\n",
       "      <td>0.023061</td>\n",
       "      <td>0.023061</td>\n",
       "      <td>0.023061</td>\n",
       "      <td>0.014900</td>\n",
       "      <td>0.149002</td>\n",
       "      <td>0.027091</td>\n",
       "      <td>...</td>\n",
       "      <td>0.018535</td>\n",
       "      <td>0.064009</td>\n",
       "      <td>0.064009</td>\n",
       "      <td>0.115410</td>\n",
       "      <td>0.008405</td>\n",
       "      <td>0.420241</td>\n",
       "      <td>0.016480</td>\n",
       "      <td>0.064905</td>\n",
       "      <td>0.064905</td>\n",
       "      <td>0.119501</td>\n",
       "    </tr>\n",
       "    <tr>\n",
       "      <th>8</th>\n",
       "      <td>NearestNeighbors-Short</td>\n",
       "      <td>0.013741</td>\n",
       "      <td>0.013741</td>\n",
       "      <td>0.013741</td>\n",
       "      <td>0.013741</td>\n",
       "      <td>0.013741</td>\n",
       "      <td>0.013741</td>\n",
       "      <td>0.011435</td>\n",
       "      <td>0.114351</td>\n",
       "      <td>0.020791</td>\n",
       "      <td>...</td>\n",
       "      <td>0.014432</td>\n",
       "      <td>0.045305</td>\n",
       "      <td>0.045305</td>\n",
       "      <td>0.086736</td>\n",
       "      <td>0.006785</td>\n",
       "      <td>0.339228</td>\n",
       "      <td>0.013303</td>\n",
       "      <td>0.046271</td>\n",
       "      <td>0.046271</td>\n",
       "      <td>0.092773</td>\n",
       "    </tr>\n",
       "    <tr>\n",
       "      <th>9</th>\n",
       "      <td>Simple-noninteract</td>\n",
       "      <td>0.000956</td>\n",
       "      <td>0.000956</td>\n",
       "      <td>0.000956</td>\n",
       "      <td>0.000956</td>\n",
       "      <td>0.000956</td>\n",
       "      <td>0.000956</td>\n",
       "      <td>0.000980</td>\n",
       "      <td>0.009798</td>\n",
       "      <td>0.001781</td>\n",
       "      <td>...</td>\n",
       "      <td>0.001970</td>\n",
       "      <td>0.004249</td>\n",
       "      <td>0.004249</td>\n",
       "      <td>0.011159</td>\n",
       "      <td>0.001054</td>\n",
       "      <td>0.052694</td>\n",
       "      <td>0.002066</td>\n",
       "      <td>0.004520</td>\n",
       "      <td>0.004520</td>\n",
       "      <td>0.013519</td>\n",
       "    </tr>\n",
       "    <tr>\n",
       "      <th>10</th>\n",
       "      <td>Simple-noninteract-pop</td>\n",
       "      <td>0.010157</td>\n",
       "      <td>0.010157</td>\n",
       "      <td>0.010157</td>\n",
       "      <td>0.010157</td>\n",
       "      <td>0.010157</td>\n",
       "      <td>0.010157</td>\n",
       "      <td>0.009177</td>\n",
       "      <td>0.091767</td>\n",
       "      <td>0.016685</td>\n",
       "      <td>...</td>\n",
       "      <td>0.014292</td>\n",
       "      <td>0.037306</td>\n",
       "      <td>0.037306</td>\n",
       "      <td>0.083337</td>\n",
       "      <td>0.006933</td>\n",
       "      <td>0.346636</td>\n",
       "      <td>0.013594</td>\n",
       "      <td>0.038491</td>\n",
       "      <td>0.038491</td>\n",
       "      <td>0.091857</td>\n",
       "    </tr>\n",
       "    <tr>\n",
       "      <th>11</th>\n",
       "      <td>Simple-random</td>\n",
       "      <td>0.000956</td>\n",
       "      <td>0.000956</td>\n",
       "      <td>0.000956</td>\n",
       "      <td>0.000956</td>\n",
       "      <td>0.000956</td>\n",
       "      <td>0.000956</td>\n",
       "      <td>0.001159</td>\n",
       "      <td>0.011590</td>\n",
       "      <td>0.002107</td>\n",
       "      <td>...</td>\n",
       "      <td>0.002238</td>\n",
       "      <td>0.004832</td>\n",
       "      <td>0.004832</td>\n",
       "      <td>0.012581</td>\n",
       "      <td>0.001159</td>\n",
       "      <td>0.057952</td>\n",
       "      <td>0.002273</td>\n",
       "      <td>0.005098</td>\n",
       "      <td>0.005098</td>\n",
       "      <td>0.014795</td>\n",
       "    </tr>\n",
       "  </tbody>\n",
       "</table>\n",
       "<p>12 rows × 37 columns</p>\n",
       "</div>"
      ],
      "text/plain": [
       "                                 Name       P@1       R@1      F1@1     MAP@1  \\\n",
       "0             Collaborative Filtering  0.003585  0.003585  0.003585  0.003585   \n",
       "1       Collaborative Filtering-SVDpp  0.004899  0.004899  0.004899  0.004899   \n",
       "2      Content-based Filtering-cosine  0.003585  0.003585  0.003585  0.003585   \n",
       "3   Content-based Filtering-euclidian  0.003107  0.003107  0.003107  0.003107   \n",
       "4   Content-based Filtering-haversine  0.003585  0.003585  0.003585  0.003585   \n",
       "5   Content-based Filtering-manhattan  0.003346  0.003346  0.003346  0.003346   \n",
       "6                    Hybrid Filtering  0.002868  0.002868  0.002868  0.002868   \n",
       "7               NearestNeighbors-Long  0.023061  0.023061  0.023061  0.023061   \n",
       "8              NearestNeighbors-Short  0.013741  0.013741  0.013741  0.013741   \n",
       "9                  Simple-noninteract  0.000956  0.000956  0.000956  0.000956   \n",
       "10             Simple-noninteract-pop  0.010157  0.010157  0.010157  0.010157   \n",
       "11                      Simple-random  0.000956  0.000956  0.000956  0.000956   \n",
       "\n",
       "       MRR@1    NDCG@1      P@10      R@10     F1@10  ...     F1@40    MAP@40  \\\n",
       "0   0.003585  0.003585  0.012463  0.124627  0.022659  ...  0.017789  0.039652   \n",
       "1   0.004899  0.004899  0.001828  0.018282  0.003324  ...  0.003433  0.010242   \n",
       "2   0.003585  0.003585  0.003417  0.034174  0.006213  ...  0.006429  0.014722   \n",
       "3   0.003107  0.003107  0.003358  0.033576  0.006105  ...  0.005852  0.013956   \n",
       "4   0.003585  0.003585  0.000705  0.007050  0.001282  ...  0.001195  0.005033   \n",
       "5   0.003346  0.003346  0.003382  0.033815  0.006148  ...  0.005864  0.014071   \n",
       "6   0.002868  0.002868  0.011853  0.118533  0.021551  ...  0.017848  0.038908   \n",
       "7   0.023061  0.023061  0.014900  0.149002  0.027091  ...  0.018535  0.064009   \n",
       "8   0.013741  0.013741  0.011435  0.114351  0.020791  ...  0.014432  0.045305   \n",
       "9   0.000956  0.000956  0.000980  0.009798  0.001781  ...  0.001970  0.004249   \n",
       "10  0.010157  0.010157  0.009177  0.091767  0.016685  ...  0.014292  0.037306   \n",
       "11  0.000956  0.000956  0.001159  0.011590  0.002107  ...  0.002238  0.004832   \n",
       "\n",
       "      MRR@40   NDCG@40      P@50      R@50     F1@50    MAP@50    MRR@50  \\\n",
       "0   0.039652  0.097016  0.008281  0.414028  0.016236  0.040742  0.040742   \n",
       "1   0.010242  0.021842  0.001690  0.084478  0.003313  0.010554  0.010554   \n",
       "2   0.014722  0.036759  0.003284  0.164177  0.006438  0.015439  0.015439   \n",
       "3   0.013956  0.033344  0.002944  0.147210  0.005773  0.014553  0.014553   \n",
       "4   0.005033  0.008995  0.000629  0.031425  0.001232  0.005185  0.005185   \n",
       "5   0.014071  0.033583  0.002961  0.148046  0.005806  0.014681  0.014681   \n",
       "6   0.038908  0.096794  0.008276  0.413789  0.016227  0.039965  0.039965   \n",
       "7   0.064009  0.115410  0.008405  0.420241  0.016480  0.064905  0.064905   \n",
       "8   0.045305  0.086736  0.006785  0.339228  0.013303  0.046271  0.046271   \n",
       "9   0.004249  0.011159  0.001054  0.052694  0.002066  0.004520  0.004520   \n",
       "10  0.037306  0.083337  0.006933  0.346636  0.013594  0.038491  0.038491   \n",
       "11  0.004832  0.012581  0.001159  0.057952  0.002273  0.005098  0.005098   \n",
       "\n",
       "     NDCG@50  \n",
       "0   0.103245  \n",
       "1   0.024222  \n",
       "2   0.042578  \n",
       "3   0.038097  \n",
       "4   0.010345  \n",
       "5   0.038481  \n",
       "6   0.102644  \n",
       "7   0.119501  \n",
       "8   0.092773  \n",
       "9   0.013519  \n",
       "10  0.091857  \n",
       "11  0.014795  \n",
       "\n",
       "[12 rows x 37 columns]"
      ]
     },
     "execution_count": 38,
     "metadata": {},
     "output_type": "execute_result"
    }
   ],
   "source": [
    "resultsDF = pd.DataFrame.from_dict(results).fillna(0)\n",
    "resultsDF = resultsDF.groupby('Name', as_index=False).sum()\n",
    "resultsDF = resultsDF.sort_values(by=['Name']).reset_index(drop=True)\n",
    "#resultsDF = resultsDF.sort_values(by='F1@1', ascending=False).reset_index(drop=True)\n",
    "resultsDF"
   ]
  },
  {
   "cell_type": "code",
   "execution_count": null,
   "id": "401c03e1",
   "metadata": {},
   "outputs": [],
   "source": [
    "resultsDF.to_csv(f\"{datasetName}/resultsDF_{datasetName}.csv\", index=True)"
   ]
  },
  {
   "cell_type": "code",
   "execution_count": 39,
   "id": "d3ce1a08",
   "metadata": {},
   "outputs": [
    {
     "data": {
      "image/png": "[encoded data removed]",
      "text/plain": [
       "<Figure size 600x1500 with 6 Axes>"
      ]
     },
     "metadata": {},
     "output_type": "display_data"
    }
   ],
   "source": [
    "markers = ['h', '^', '*', 'o', '.', 's', 'v', 'p', '8', '>', '<', 'H', 'D', 'd', 'P', 'X']\n",
    "labels = ['precisionLabels', 'recallLabels', 'f1ScoreLabels', 'MAPLabels', 'MRRLabels', 'nDCGLabels']\n",
    "titles = ['Precision', 'Recall', 'F1-Score', 'MAP-Mean Average Precision', 'MRR-Mean Reciprocal Rank', 'NDCG-Normalized Discounted Cumulative Gain']\n",
    "linestyles = ['solid', 'dotted', 'dashed', 'dashdot', 'solid', 'dotted', 'dashed', 'dashdot', 'solid', 'dotted', 'dashed', 'dashdot', 'solid']\n",
    "\n",
    "def plotEvaluation(resultsDF):\n",
    "    plt.figure(figsize=(6,15))\n",
    "    for i in range(6):\n",
    "        plt.subplot(6,1,i+1)\n",
    "        for j in range(len(resultsDF)):\n",
    "            plt.plot(resultsDF[eval(labels[i])].transpose()[j], label=resultsDF.Name.transpose()[j], linestyle=linestyles[j], marker=markers[j], linewidth=2)\n",
    "        plt.title(titles[i]+' at '+ datasetName, fontdict={'fontsize': 12})\n",
    "        plt.grid(color='gray', linestyle='dotted', linewidth=1) \n",
    "        plt.yticks(minor=False)\n",
    "    \n",
    "    plt.subplots_adjust(top=0.92, bottom=0.08, left=0.10, right=0.95, hspace=0.5, wspace=0.15)\n",
    "    plt.legend(bbox_to_anchor=(0.75,-0.25), fontsize=12)\n",
    "    #plt.legend(fontsize=12)\n",
    "    plt.tight_layout()\n",
    "    plt.show()\n",
    "\n",
    "plotEvaluation(resultsDF)"
   ]
  },
  {
   "cell_type": "code",
   "execution_count": 40,
   "id": "833aad8c",
   "metadata": {},
   "outputs": [
    {
     "data": {
      "text/html": [
       "<div>\n",
       "<style scoped>\n",
       "    .dataframe tbody tr th:only-of-type {\n",
       "        vertical-align: middle;\n",
       "    }\n",
       "\n",
       "    .dataframe tbody tr th {\n",
       "        vertical-align: top;\n",
       "    }\n",
       "\n",
       "    .dataframe thead th {\n",
       "        text-align: right;\n",
       "    }\n",
       "</style>\n",
       "<table border=\"1\" class=\"dataframe\">\n",
       "  <thead>\n",
       "    <tr style=\"text-align: right;\">\n",
       "      <th></th>\n",
       "      <th>0</th>\n",
       "      <th>1</th>\n",
       "      <th>2</th>\n",
       "      <th>3</th>\n",
       "      <th>4</th>\n",
       "      <th>5</th>\n",
       "      <th>6</th>\n",
       "      <th>7</th>\n",
       "      <th>8</th>\n",
       "      <th>9</th>\n",
       "      <th>10</th>\n",
       "      <th>11</th>\n",
       "    </tr>\n",
       "  </thead>\n",
       "  <tbody>\n",
       "    <tr>\n",
       "      <th>Name</th>\n",
       "      <td>Collaborative Filtering</td>\n",
       "      <td>Collaborative Filtering-SVDpp</td>\n",
       "      <td>Content-based Filtering-cosine</td>\n",
       "      <td>Content-based Filtering-euclidian</td>\n",
       "      <td>Content-based Filtering-haversine</td>\n",
       "      <td>Content-based Filtering-manhattan</td>\n",
       "      <td>Hybrid Filtering</td>\n",
       "      <td>NearestNeighbors-Long</td>\n",
       "      <td>NearestNeighbors-Short</td>\n",
       "      <td>Simple-noninteract</td>\n",
       "      <td>Simple-noninteract-pop</td>\n",
       "      <td>Simple-random</td>\n",
       "    </tr>\n",
       "    <tr>\n",
       "      <th>P@1</th>\n",
       "      <td>0.003585 (-543.264%)</td>\n",
       "      <td>0.004899 (-370.729%)</td>\n",
       "      <td>0.003585 (-543.264%)</td>\n",
       "      <td>0.003107 (-642.227%)</td>\n",
       "      <td>0.003585 (-543.264%)</td>\n",
       "      <td>0.003346 (-589.211%)</td>\n",
       "      <td>0.002868 (-704.079%)</td>\n",
       "      <td>0.023061 (*)</td>\n",
       "      <td>0.013741 (-67.826%)</td>\n",
       "      <td>0.000956 (-2312.238%)</td>\n",
       "      <td>0.010157 (-127.045%)</td>\n",
       "      <td>0.000956 (-2312.238%)</td>\n",
       "    </tr>\n",
       "    <tr>\n",
       "      <th>R@1</th>\n",
       "      <td>0.003585 (-543.264%)</td>\n",
       "      <td>0.004899 (-370.729%)</td>\n",
       "      <td>0.003585 (-543.264%)</td>\n",
       "      <td>0.003107 (-642.227%)</td>\n",
       "      <td>0.003585 (-543.264%)</td>\n",
       "      <td>0.003346 (-589.211%)</td>\n",
       "      <td>0.002868 (-704.079%)</td>\n",
       "      <td>0.023061 (*)</td>\n",
       "      <td>0.013741 (-67.826%)</td>\n",
       "      <td>0.000956 (-2312.238%)</td>\n",
       "      <td>0.010157 (-127.045%)</td>\n",
       "      <td>0.000956 (-2312.238%)</td>\n",
       "    </tr>\n",
       "    <tr>\n",
       "      <th>F1@1</th>\n",
       "      <td>0.003585 (-543.264%)</td>\n",
       "      <td>0.004899 (-370.729%)</td>\n",
       "      <td>0.003585 (-543.264%)</td>\n",
       "      <td>0.003107 (-642.227%)</td>\n",
       "      <td>0.003585 (-543.264%)</td>\n",
       "      <td>0.003346 (-589.211%)</td>\n",
       "      <td>0.002868 (-704.079%)</td>\n",
       "      <td>0.023061 (*)</td>\n",
       "      <td>0.013741 (-67.826%)</td>\n",
       "      <td>0.000956 (-2312.238%)</td>\n",
       "      <td>0.010157 (-127.045%)</td>\n",
       "      <td>0.000956 (-2312.238%)</td>\n",
       "    </tr>\n",
       "    <tr>\n",
       "      <th>MAP@1</th>\n",
       "      <td>0.003585 (-543.264%)</td>\n",
       "      <td>0.004899 (-370.729%)</td>\n",
       "      <td>0.003585 (-543.264%)</td>\n",
       "      <td>0.003107 (-642.227%)</td>\n",
       "      <td>0.003585 (-543.264%)</td>\n",
       "      <td>0.003346 (-589.211%)</td>\n",
       "      <td>0.002868 (-704.079%)</td>\n",
       "      <td>0.023061 (*)</td>\n",
       "      <td>0.013741 (-67.826%)</td>\n",
       "      <td>0.000956 (-2312.238%)</td>\n",
       "      <td>0.010157 (-127.045%)</td>\n",
       "      <td>0.000956 (-2312.238%)</td>\n",
       "    </tr>\n",
       "    <tr>\n",
       "      <th>MRR@1</th>\n",
       "      <td>0.003585 (-543.264%)</td>\n",
       "      <td>0.004899 (-370.729%)</td>\n",
       "      <td>0.003585 (-543.264%)</td>\n",
       "      <td>0.003107 (-642.227%)</td>\n",
       "      <td>0.003585 (-543.264%)</td>\n",
       "      <td>0.003346 (-589.211%)</td>\n",
       "      <td>0.002868 (-704.079%)</td>\n",
       "      <td>0.023061 (*)</td>\n",
       "      <td>0.013741 (-67.826%)</td>\n",
       "      <td>0.000956 (-2312.238%)</td>\n",
       "      <td>0.010157 (-127.045%)</td>\n",
       "      <td>0.000956 (-2312.238%)</td>\n",
       "    </tr>\n",
       "    <tr>\n",
       "      <th>NDCG@1</th>\n",
       "      <td>0.003585 (-543.264%)</td>\n",
       "      <td>0.004899 (-370.729%)</td>\n",
       "      <td>0.003585 (-543.264%)</td>\n",
       "      <td>0.003107 (-642.227%)</td>\n",
       "      <td>0.003585 (-543.264%)</td>\n",
       "      <td>0.003346 (-589.211%)</td>\n",
       "      <td>0.002868 (-704.079%)</td>\n",
       "      <td>0.023061 (*)</td>\n",
       "      <td>0.013741 (-67.826%)</td>\n",
       "      <td>0.000956 (-2312.238%)</td>\n",
       "      <td>0.010157 (-127.045%)</td>\n",
       "      <td>0.000956 (-2312.238%)</td>\n",
       "    </tr>\n",
       "    <tr>\n",
       "      <th>P@10</th>\n",
       "      <td>0.012463 (-19.554%)</td>\n",
       "      <td>0.001828 (-715.098%)</td>\n",
       "      <td>0.003417 (-336.055%)</td>\n",
       "      <td>0.003358 (-343.716%)</td>\n",
       "      <td>0.000705 (-2013.475%)</td>\n",
       "      <td>0.003382 (-340.568%)</td>\n",
       "      <td>0.011853 (-25.707%)</td>\n",
       "      <td>0.0149 (*)</td>\n",
       "      <td>0.011435 (-30.302%)</td>\n",
       "      <td>0.00098 (-1420.408%)</td>\n",
       "      <td>0.009177 (-62.362%)</td>\n",
       "      <td>0.001159 (-1185.591%)</td>\n",
       "    </tr>\n",
       "    <tr>\n",
       "      <th>R@10</th>\n",
       "      <td>0.124627 (-19.558%)</td>\n",
       "      <td>0.018282 (-715.02%)</td>\n",
       "      <td>0.034174 (-336.01%)</td>\n",
       "      <td>0.033576 (-343.775%)</td>\n",
       "      <td>0.00705 (-2013.504%)</td>\n",
       "      <td>0.033815 (-340.639%)</td>\n",
       "      <td>0.118533 (-25.705%)</td>\n",
       "      <td>0.149002 (*)</td>\n",
       "      <td>0.114351 (-30.302%)</td>\n",
       "      <td>0.009798 (-1420.739%)</td>\n",
       "      <td>0.091767 (-62.37%)</td>\n",
       "      <td>0.01159 (-1185.608%)</td>\n",
       "    </tr>\n",
       "    <tr>\n",
       "      <th>F1@10</th>\n",
       "      <td>0.022659 (-19.56%)</td>\n",
       "      <td>0.003324 (-715.012%)</td>\n",
       "      <td>0.006213 (-336.037%)</td>\n",
       "      <td>0.006105 (-343.751%)</td>\n",
       "      <td>0.001282 (-2013.183%)</td>\n",
       "      <td>0.006148 (-340.647%)</td>\n",
       "      <td>0.021551 (-25.706%)</td>\n",
       "      <td>0.027091 (*)</td>\n",
       "      <td>0.020791 (-30.302%)</td>\n",
       "      <td>0.001781 (-1421.112%)</td>\n",
       "      <td>0.016685 (-62.367%)</td>\n",
       "      <td>0.002107 (-1185.762%)</td>\n",
       "    </tr>\n",
       "    <tr>\n",
       "      <th>MAP@10</th>\n",
       "      <td>0.027732 (-90.001%)</td>\n",
       "      <td>0.007854 (-570.881%)</td>\n",
       "      <td>0.010222 (-415.467%)</td>\n",
       "      <td>0.010056 (-423.976%)</td>\n",
       "      <td>0.004285 (-1129.662%)</td>\n",
       "      <td>0.010157 (-418.765%)</td>\n",
       "      <td>0.026735 (-97.086%)</td>\n",
       "      <td>0.052691 (*)</td>\n",
       "      <td>0.036567 (-44.094%)</td>\n",
       "      <td>0.00284 (-1755.317%)</td>\n",
       "      <td>0.027561 (-91.18%)</td>\n",
       "      <td>0.003246 (-1523.259%)</td>\n",
       "    </tr>\n",
       "    <tr>\n",
       "      <th>MRR@10</th>\n",
       "      <td>0.027732 (-90.001%)</td>\n",
       "      <td>0.007854 (-570.881%)</td>\n",
       "      <td>0.010222 (-415.467%)</td>\n",
       "      <td>0.010056 (-423.976%)</td>\n",
       "      <td>0.004285 (-1129.662%)</td>\n",
       "      <td>0.010157 (-418.765%)</td>\n",
       "      <td>0.026735 (-97.086%)</td>\n",
       "      <td>0.052691 (*)</td>\n",
       "      <td>0.036567 (-44.094%)</td>\n",
       "      <td>0.00284 (-1755.317%)</td>\n",
       "      <td>0.027561 (-91.18%)</td>\n",
       "      <td>0.003246 (-1523.259%)</td>\n",
       "    </tr>\n",
       "    <tr>\n",
       "      <th>NDCG@10</th>\n",
       "      <td>0.051242 (-41.774%)</td>\n",
       "      <td>0.010168 (-614.477%)</td>\n",
       "      <td>0.015628 (-364.858%)</td>\n",
       "      <td>0.015103 (-381.017%)</td>\n",
       "      <td>0.004949 (-1367.933%)</td>\n",
       "      <td>0.015342 (-373.524%)</td>\n",
       "      <td>0.048408 (-50.074%)</td>\n",
       "      <td>0.072648 (*)</td>\n",
       "      <td>0.053354 (-36.162%)</td>\n",
       "      <td>0.004437 (-1537.323%)</td>\n",
       "      <td>0.042289 (-71.789%)</td>\n",
       "      <td>0.005143 (-1312.561%)</td>\n",
       "    </tr>\n",
       "    <tr>\n",
       "      <th>P@20</th>\n",
       "      <td>0.011441 (-8.408%)</td>\n",
       "      <td>0.001828 (-578.501%)</td>\n",
       "      <td>0.003495 (-254.878%)</td>\n",
       "      <td>0.003119 (-297.66%)</td>\n",
       "      <td>0.00058 (-2038.448%)</td>\n",
       "      <td>0.003119 (-297.66%)</td>\n",
       "      <td>0.011196 (-10.781%)</td>\n",
       "      <td>0.012403 (*)</td>\n",
       "      <td>0.009392 (-32.059%)</td>\n",
       "      <td>0.001028 (-1106.518%)</td>\n",
       "      <td>0.008764 (-41.522%)</td>\n",
       "      <td>0.001195 (-937.908%)</td>\n",
       "    </tr>\n",
       "    <tr>\n",
       "      <th>R@20</th>\n",
       "      <td>0.228821 (-8.407%)</td>\n",
       "      <td>0.036564 (-578.421%)</td>\n",
       "      <td>0.069901 (-254.87%)</td>\n",
       "      <td>0.062373 (-297.701%)</td>\n",
       "      <td>0.01159 (-2040.276%)</td>\n",
       "      <td>0.062373 (-297.701%)</td>\n",
       "      <td>0.223922 (-10.779%)</td>\n",
       "      <td>0.248058 (*)</td>\n",
       "      <td>0.187836 (-32.061%)</td>\n",
       "      <td>0.020552 (-1106.977%)</td>\n",
       "      <td>0.17529 (-41.513%)</td>\n",
       "      <td>0.023898 (-937.986%)</td>\n",
       "    </tr>\n",
       "    <tr>\n",
       "      <th>F1@20</th>\n",
       "      <td>0.021792 (-8.411%)</td>\n",
       "      <td>0.003482 (-578.489%)</td>\n",
       "      <td>0.006657 (-254.89%)</td>\n",
       "      <td>0.00594 (-297.727%)</td>\n",
       "      <td>0.001104 (-2039.946%)</td>\n",
       "      <td>0.00594 (-297.727%)</td>\n",
       "      <td>0.021326 (-10.78%)</td>\n",
       "      <td>0.023625 (*)</td>\n",
       "      <td>0.017889 (-32.064%)</td>\n",
       "      <td>0.001957 (-1107.205%)</td>\n",
       "      <td>0.016694 (-41.518%)</td>\n",
       "      <td>0.002276 (-938.005%)</td>\n",
       "    </tr>\n",
       "    <tr>\n",
       "      <th>MAP@20</th>\n",
       "      <td>0.034828 (-70.598%)</td>\n",
       "      <td>0.009036 (-557.548%)</td>\n",
       "      <td>0.012575 (-372.493%)</td>\n",
       "      <td>0.011998 (-395.216%)</td>\n",
       "      <td>0.004587 (-1195.313%)</td>\n",
       "      <td>0.012084 (-391.691%)</td>\n",
       "      <td>0.033932 (-75.103%)</td>\n",
       "      <td>0.059416 (*)</td>\n",
       "      <td>0.041561 (-42.961%)</td>\n",
       "      <td>0.003585 (-1557.35%)</td>\n",
       "      <td>0.033287 (-78.496%)</td>\n",
       "      <td>0.004085 (-1354.492%)</td>\n",
       "    </tr>\n",
       "    <tr>\n",
       "      <th>MRR@20</th>\n",
       "      <td>0.034828 (-70.598%)</td>\n",
       "      <td>0.009036 (-557.548%)</td>\n",
       "      <td>0.012575 (-372.493%)</td>\n",
       "      <td>0.011998 (-395.216%)</td>\n",
       "      <td>0.004587 (-1195.313%)</td>\n",
       "      <td>0.012084 (-391.691%)</td>\n",
       "      <td>0.033932 (-75.103%)</td>\n",
       "      <td>0.059416 (*)</td>\n",
       "      <td>0.041561 (-42.961%)</td>\n",
       "      <td>0.003585 (-1557.35%)</td>\n",
       "      <td>0.033287 (-78.496%)</td>\n",
       "      <td>0.004085 (-1354.492%)</td>\n",
       "    </tr>\n",
       "    <tr>\n",
       "      <th>NDCG@20</th>\n",
       "      <td>0.075189 (-25.803%)</td>\n",
       "      <td>0.014965 (-532.075%)</td>\n",
       "      <td>0.024667 (-283.468%)</td>\n",
       "      <td>0.021948 (-330.973%)</td>\n",
       "      <td>0.00613 (-1443.067%)</td>\n",
       "      <td>0.022111 (-327.796%)</td>\n",
       "      <td>0.073143 (-29.322%)</td>\n",
       "      <td>0.09459 (*)</td>\n",
       "      <td>0.069087 (-36.914%)</td>\n",
       "      <td>0.007186 (-1216.309%)</td>\n",
       "      <td>0.062654 (-50.972%)</td>\n",
       "      <td>0.008249 (-1046.684%)</td>\n",
       "    </tr>\n",
       "    <tr>\n",
       "      <th>P@30</th>\n",
       "      <td>0.010272 (-3.719%)</td>\n",
       "      <td>0.001976 (-439.17%)</td>\n",
       "      <td>0.003441 (-209.619%)</td>\n",
       "      <td>0.003011 (-253.836%)</td>\n",
       "      <td>0.000597 (-1684.59%)</td>\n",
       "      <td>0.003043 (-250.115%)</td>\n",
       "      <td>0.010125 (-5.225%)</td>\n",
       "      <td>0.010654 (*)</td>\n",
       "      <td>0.008225 (-29.532%)</td>\n",
       "      <td>0.000972 (-996.091%)</td>\n",
       "      <td>0.007811 (-36.397%)</td>\n",
       "      <td>0.001155 (-822.424%)</td>\n",
       "    </tr>\n",
       "    <tr>\n",
       "      <th>R@30</th>\n",
       "      <td>0.308161 (-3.722%)</td>\n",
       "      <td>0.059266 (-439.318%)</td>\n",
       "      <td>0.103238 (-209.607%)</td>\n",
       "      <td>0.090333 (-253.837%)</td>\n",
       "      <td>0.017923 (-1683.362%)</td>\n",
       "      <td>0.091289 (-250.132%)</td>\n",
       "      <td>0.30374 (-5.232%)</td>\n",
       "      <td>0.319632 (*)</td>\n",
       "      <td>0.246744 (-29.54%)</td>\n",
       "      <td>0.029155 (-996.32%)</td>\n",
       "      <td>0.234317 (-36.41%)</td>\n",
       "      <td>0.034652 (-822.406%)</td>\n",
       "    </tr>\n",
       "    <tr>\n",
       "      <th>F1@30</th>\n",
       "      <td>0.019881 (-3.722%)</td>\n",
       "      <td>0.003824 (-439.252%)</td>\n",
       "      <td>0.006661 (-209.578%)</td>\n",
       "      <td>0.005828 (-253.826%)</td>\n",
       "      <td>0.001156 (-1683.824%)</td>\n",
       "      <td>0.00589 (-250.102%)</td>\n",
       "      <td>0.019596 (-5.231%)</td>\n",
       "      <td>0.020621 (*)</td>\n",
       "      <td>0.015919 (-29.537%)</td>\n",
       "      <td>0.001881 (-996.279%)</td>\n",
       "      <td>0.015117 (-36.409%)</td>\n",
       "      <td>0.002236 (-822.227%)</td>\n",
       "    </tr>\n",
       "    <tr>\n",
       "      <th>MAP@30</th>\n",
       "      <td>0.038033 (-63.781%)</td>\n",
       "      <td>0.009931 (-527.238%)</td>\n",
       "      <td>0.013912 (-347.75%)</td>\n",
       "      <td>0.013114 (-374.996%)</td>\n",
       "      <td>0.004841 (-1186.738%)</td>\n",
       "      <td>0.013248 (-370.192%)</td>\n",
       "      <td>0.03712 (-67.81%)</td>\n",
       "      <td>0.062291 (*)</td>\n",
       "      <td>0.043898 (-41.899%)</td>\n",
       "      <td>0.003933 (-1483.804%)</td>\n",
       "      <td>0.035623 (-74.862%)</td>\n",
       "      <td>0.004512 (-1280.563%)</td>\n",
       "    </tr>\n",
       "    <tr>\n",
       "      <th>MRR@30</th>\n",
       "      <td>0.038033 (-63.781%)</td>\n",
       "      <td>0.009931 (-527.238%)</td>\n",
       "      <td>0.013912 (-347.75%)</td>\n",
       "      <td>0.013114 (-374.996%)</td>\n",
       "      <td>0.004841 (-1186.738%)</td>\n",
       "      <td>0.013248 (-370.192%)</td>\n",
       "      <td>0.03712 (-67.81%)</td>\n",
       "      <td>0.062291 (*)</td>\n",
       "      <td>0.043898 (-41.899%)</td>\n",
       "      <td>0.003933 (-1483.804%)</td>\n",
       "      <td>0.035623 (-74.862%)</td>\n",
       "      <td>0.004512 (-1280.563%)</td>\n",
       "    </tr>\n",
       "    <tr>\n",
       "      <th>NDCG@30</th>\n",
       "      <td>0.089303 (-19.286%)</td>\n",
       "      <td>0.0202 (-427.356%)</td>\n",
       "      <td>0.031631 (-236.777%)</td>\n",
       "      <td>0.027655 (-285.196%)</td>\n",
       "      <td>0.00762 (-1297.979%)</td>\n",
       "      <td>0.028096 (-279.15%)</td>\n",
       "      <td>0.087543 (-21.684%)</td>\n",
       "      <td>0.106526 (*)</td>\n",
       "      <td>0.079316 (-34.306%)</td>\n",
       "      <td>0.008892 (-1097.998%)</td>\n",
       "      <td>0.073243 (-45.442%)</td>\n",
       "      <td>0.010439 (-920.462%)</td>\n",
       "    </tr>\n",
       "    <tr>\n",
       "      <th>P@40</th>\n",
       "      <td>0.009117 (-4.19%)</td>\n",
       "      <td>0.001759 (-440.023%)</td>\n",
       "      <td>0.003295 (-188.285%)</td>\n",
       "      <td>0.002999 (-216.739%)</td>\n",
       "      <td>0.000612 (-1452.124%)</td>\n",
       "      <td>0.003005 (-216.106%)</td>\n",
       "      <td>0.009147 (-3.848%)</td>\n",
       "      <td>0.009499 (*)</td>\n",
       "      <td>0.007396 (-28.434%)</td>\n",
       "      <td>0.00101 (-840.495%)</td>\n",
       "      <td>0.007325 (-29.679%)</td>\n",
       "      <td>0.001147 (-728.16%)</td>\n",
       "    </tr>\n",
       "    <tr>\n",
       "      <th>R@40</th>\n",
       "      <td>0.364679 (-4.194%)</td>\n",
       "      <td>0.070379 (-439.897%)</td>\n",
       "      <td>0.131796 (-188.305%)</td>\n",
       "      <td>0.119967 (-216.732%)</td>\n",
       "      <td>0.024495 (-1451.231%)</td>\n",
       "      <td>0.120206 (-216.102%)</td>\n",
       "      <td>0.365874 (-3.854%)</td>\n",
       "      <td>0.379974 (*)</td>\n",
       "      <td>0.295854 (-28.433%)</td>\n",
       "      <td>0.040387 (-840.832%)</td>\n",
       "      <td>0.292986 (-29.69%)</td>\n",
       "      <td>0.045884 (-728.119%)</td>\n",
       "    </tr>\n",
       "    <tr>\n",
       "      <th>F1@40</th>\n",
       "      <td>0.017789 (-4.194%)</td>\n",
       "      <td>0.003433 (-439.907%)</td>\n",
       "      <td>0.006429 (-188.303%)</td>\n",
       "      <td>0.005852 (-216.729%)</td>\n",
       "      <td>0.001195 (-1451.046%)</td>\n",
       "      <td>0.005864 (-216.081%)</td>\n",
       "      <td>0.017848 (-3.849%)</td>\n",
       "      <td>0.018535 (*)</td>\n",
       "      <td>0.014432 (-28.43%)</td>\n",
       "      <td>0.00197 (-840.863%)</td>\n",
       "      <td>0.014292 (-29.688%)</td>\n",
       "      <td>0.002238 (-728.195%)</td>\n",
       "    </tr>\n",
       "    <tr>\n",
       "      <th>MAP@40</th>\n",
       "      <td>0.039652 (-61.427%)</td>\n",
       "      <td>0.010242 (-524.966%)</td>\n",
       "      <td>0.014722 (-334.785%)</td>\n",
       "      <td>0.013956 (-358.649%)</td>\n",
       "      <td>0.005033 (-1171.786%)</td>\n",
       "      <td>0.014071 (-354.9%)</td>\n",
       "      <td>0.038908 (-64.514%)</td>\n",
       "      <td>0.064009 (*)</td>\n",
       "      <td>0.045305 (-41.285%)</td>\n",
       "      <td>0.004249 (-1406.449%)</td>\n",
       "      <td>0.037306 (-71.578%)</td>\n",
       "      <td>0.004832 (-1224.69%)</td>\n",
       "    </tr>\n",
       "    <tr>\n",
       "      <th>MRR@40</th>\n",
       "      <td>0.039652 (-61.427%)</td>\n",
       "      <td>0.010242 (-524.966%)</td>\n",
       "      <td>0.014722 (-334.785%)</td>\n",
       "      <td>0.013956 (-358.649%)</td>\n",
       "      <td>0.005033 (-1171.786%)</td>\n",
       "      <td>0.014071 (-354.9%)</td>\n",
       "      <td>0.038908 (-64.514%)</td>\n",
       "      <td>0.064009 (*)</td>\n",
       "      <td>0.045305 (-41.285%)</td>\n",
       "      <td>0.004249 (-1406.449%)</td>\n",
       "      <td>0.037306 (-71.578%)</td>\n",
       "      <td>0.004832 (-1224.69%)</td>\n",
       "    </tr>\n",
       "    <tr>\n",
       "      <th>NDCG@40</th>\n",
       "      <td>0.097016 (-18.96%)</td>\n",
       "      <td>0.021842 (-428.386%)</td>\n",
       "      <td>0.036759 (-213.964%)</td>\n",
       "      <td>0.033344 (-246.119%)</td>\n",
       "      <td>0.008995 (-1183.046%)</td>\n",
       "      <td>0.033583 (-243.656%)</td>\n",
       "      <td>0.096794 (-19.233%)</td>\n",
       "      <td>0.11541 (*)</td>\n",
       "      <td>0.086736 (-33.059%)</td>\n",
       "      <td>0.011159 (-934.232%)</td>\n",
       "      <td>0.083337 (-38.486%)</td>\n",
       "      <td>0.012581 (-817.336%)</td>\n",
       "    </tr>\n",
       "    <tr>\n",
       "      <th>P@50</th>\n",
       "      <td>0.008281 (-1.497%)</td>\n",
       "      <td>0.00169 (-397.337%)</td>\n",
       "      <td>0.003284 (-155.938%)</td>\n",
       "      <td>0.002944 (-185.496%)</td>\n",
       "      <td>0.000629 (-1236.248%)</td>\n",
       "      <td>0.002961 (-183.857%)</td>\n",
       "      <td>0.008276 (-1.559%)</td>\n",
       "      <td>0.008405 (*)</td>\n",
       "      <td>0.006785 (-23.876%)</td>\n",
       "      <td>0.001054 (-697.438%)</td>\n",
       "      <td>0.006933 (-21.232%)</td>\n",
       "      <td>0.001159 (-625.194%)</td>\n",
       "    </tr>\n",
       "    <tr>\n",
       "      <th>R@50</th>\n",
       "      <td>0.414028 (-1.501%)</td>\n",
       "      <td>0.084478 (-397.456%)</td>\n",
       "      <td>0.164177 (-155.968%)</td>\n",
       "      <td>0.14721 (-185.47%)</td>\n",
       "      <td>0.031425 (-1237.282%)</td>\n",
       "      <td>0.148046 (-183.858%)</td>\n",
       "      <td>0.413789 (-1.559%)</td>\n",
       "      <td>0.420241 (*)</td>\n",
       "      <td>0.339228 (-23.882%)</td>\n",
       "      <td>0.052694 (-697.512%)</td>\n",
       "      <td>0.346636 (-21.234%)</td>\n",
       "      <td>0.057952 (-625.154%)</td>\n",
       "    </tr>\n",
       "    <tr>\n",
       "      <th>F1@50</th>\n",
       "      <td>0.016236 (-1.503%)</td>\n",
       "      <td>0.003313 (-397.434%)</td>\n",
       "      <td>0.006438 (-155.98%)</td>\n",
       "      <td>0.005773 (-185.467%)</td>\n",
       "      <td>0.001232 (-1237.662%)</td>\n",
       "      <td>0.005806 (-183.844%)</td>\n",
       "      <td>0.016227 (-1.559%)</td>\n",
       "      <td>0.01648 (*)</td>\n",
       "      <td>0.013303 (-23.882%)</td>\n",
       "      <td>0.002066 (-697.677%)</td>\n",
       "      <td>0.013594 (-21.23%)</td>\n",
       "      <td>0.002273 (-625.033%)</td>\n",
       "    </tr>\n",
       "    <tr>\n",
       "      <th>MAP@50</th>\n",
       "      <td>0.040742 (-59.307%)</td>\n",
       "      <td>0.010554 (-514.98%)</td>\n",
       "      <td>0.015439 (-320.396%)</td>\n",
       "      <td>0.014553 (-345.991%)</td>\n",
       "      <td>0.005185 (-1151.784%)</td>\n",
       "      <td>0.014681 (-342.102%)</td>\n",
       "      <td>0.039965 (-62.405%)</td>\n",
       "      <td>0.064905 (*)</td>\n",
       "      <td>0.046271 (-40.271%)</td>\n",
       "      <td>0.00452 (-1335.951%)</td>\n",
       "      <td>0.038491 (-68.624%)</td>\n",
       "      <td>0.005098 (-1173.146%)</td>\n",
       "    </tr>\n",
       "    <tr>\n",
       "      <th>MRR@50</th>\n",
       "      <td>0.040742 (-59.307%)</td>\n",
       "      <td>0.010554 (-514.98%)</td>\n",
       "      <td>0.015439 (-320.396%)</td>\n",
       "      <td>0.014553 (-345.991%)</td>\n",
       "      <td>0.005185 (-1151.784%)</td>\n",
       "      <td>0.014681 (-342.102%)</td>\n",
       "      <td>0.039965 (-62.405%)</td>\n",
       "      <td>0.064905 (*)</td>\n",
       "      <td>0.046271 (-40.271%)</td>\n",
       "      <td>0.00452 (-1335.951%)</td>\n",
       "      <td>0.038491 (-68.624%)</td>\n",
       "      <td>0.005098 (-1173.146%)</td>\n",
       "    </tr>\n",
       "    <tr>\n",
       "      <th>NDCG@50</th>\n",
       "      <td>0.103245 (-15.745%)</td>\n",
       "      <td>0.024222 (-393.357%)</td>\n",
       "      <td>0.042578 (-180.664%)</td>\n",
       "      <td>0.038097 (-213.676%)</td>\n",
       "      <td>0.010345 (-1055.157%)</td>\n",
       "      <td>0.038481 (-210.545%)</td>\n",
       "      <td>0.102644 (-16.423%)</td>\n",
       "      <td>0.119501 (*)</td>\n",
       "      <td>0.092773 (-28.81%)</td>\n",
       "      <td>0.013519 (-783.949%)</td>\n",
       "      <td>0.091857 (-30.095%)</td>\n",
       "      <td>0.014795 (-707.712%)</td>\n",
       "    </tr>\n",
       "  </tbody>\n",
       "</table>\n",
       "</div>"
      ],
      "text/plain": [
       "                              0                              1   \\\n",
       "Name     Collaborative Filtering  Collaborative Filtering-SVDpp   \n",
       "P@1         0.003585 (-543.264%)           0.004899 (-370.729%)   \n",
       "R@1         0.003585 (-543.264%)           0.004899 (-370.729%)   \n",
       "F1@1        0.003585 (-543.264%)           0.004899 (-370.729%)   \n",
       "MAP@1       0.003585 (-543.264%)           0.004899 (-370.729%)   \n",
       "MRR@1       0.003585 (-543.264%)           0.004899 (-370.729%)   \n",
       "NDCG@1      0.003585 (-543.264%)           0.004899 (-370.729%)   \n",
       "P@10         0.012463 (-19.554%)           0.001828 (-715.098%)   \n",
       "R@10         0.124627 (-19.558%)            0.018282 (-715.02%)   \n",
       "F1@10         0.022659 (-19.56%)           0.003324 (-715.012%)   \n",
       "MAP@10       0.027732 (-90.001%)           0.007854 (-570.881%)   \n",
       "MRR@10       0.027732 (-90.001%)           0.007854 (-570.881%)   \n",
       "NDCG@10      0.051242 (-41.774%)           0.010168 (-614.477%)   \n",
       "P@20          0.011441 (-8.408%)           0.001828 (-578.501%)   \n",
       "R@20          0.228821 (-8.407%)           0.036564 (-578.421%)   \n",
       "F1@20         0.021792 (-8.411%)           0.003482 (-578.489%)   \n",
       "MAP@20       0.034828 (-70.598%)           0.009036 (-557.548%)   \n",
       "MRR@20       0.034828 (-70.598%)           0.009036 (-557.548%)   \n",
       "NDCG@20      0.075189 (-25.803%)           0.014965 (-532.075%)   \n",
       "P@30          0.010272 (-3.719%)            0.001976 (-439.17%)   \n",
       "R@30          0.308161 (-3.722%)           0.059266 (-439.318%)   \n",
       "F1@30         0.019881 (-3.722%)           0.003824 (-439.252%)   \n",
       "MAP@30       0.038033 (-63.781%)           0.009931 (-527.238%)   \n",
       "MRR@30       0.038033 (-63.781%)           0.009931 (-527.238%)   \n",
       "NDCG@30      0.089303 (-19.286%)             0.0202 (-427.356%)   \n",
       "P@40           0.009117 (-4.19%)           0.001759 (-440.023%)   \n",
       "R@40          0.364679 (-4.194%)           0.070379 (-439.897%)   \n",
       "F1@40         0.017789 (-4.194%)           0.003433 (-439.907%)   \n",
       "MAP@40       0.039652 (-61.427%)           0.010242 (-524.966%)   \n",
       "MRR@40       0.039652 (-61.427%)           0.010242 (-524.966%)   \n",
       "NDCG@40       0.097016 (-18.96%)           0.021842 (-428.386%)   \n",
       "P@50          0.008281 (-1.497%)            0.00169 (-397.337%)   \n",
       "R@50          0.414028 (-1.501%)           0.084478 (-397.456%)   \n",
       "F1@50         0.016236 (-1.503%)           0.003313 (-397.434%)   \n",
       "MAP@50       0.040742 (-59.307%)            0.010554 (-514.98%)   \n",
       "MRR@50       0.040742 (-59.307%)            0.010554 (-514.98%)   \n",
       "NDCG@50      0.103245 (-15.745%)           0.024222 (-393.357%)   \n",
       "\n",
       "                                     2                                  3   \\\n",
       "Name     Content-based Filtering-cosine  Content-based Filtering-euclidian   \n",
       "P@1                0.003585 (-543.264%)               0.003107 (-642.227%)   \n",
       "R@1                0.003585 (-543.264%)               0.003107 (-642.227%)   \n",
       "F1@1               0.003585 (-543.264%)               0.003107 (-642.227%)   \n",
       "MAP@1              0.003585 (-543.264%)               0.003107 (-642.227%)   \n",
       "MRR@1              0.003585 (-543.264%)               0.003107 (-642.227%)   \n",
       "NDCG@1             0.003585 (-543.264%)               0.003107 (-642.227%)   \n",
       "P@10               0.003417 (-336.055%)               0.003358 (-343.716%)   \n",
       "R@10                0.034174 (-336.01%)               0.033576 (-343.775%)   \n",
       "F1@10              0.006213 (-336.037%)               0.006105 (-343.751%)   \n",
       "MAP@10             0.010222 (-415.467%)               0.010056 (-423.976%)   \n",
       "MRR@10             0.010222 (-415.467%)               0.010056 (-423.976%)   \n",
       "NDCG@10            0.015628 (-364.858%)               0.015103 (-381.017%)   \n",
       "P@20               0.003495 (-254.878%)                0.003119 (-297.66%)   \n",
       "R@20                0.069901 (-254.87%)               0.062373 (-297.701%)   \n",
       "F1@20               0.006657 (-254.89%)                0.00594 (-297.727%)   \n",
       "MAP@20             0.012575 (-372.493%)               0.011998 (-395.216%)   \n",
       "MRR@20             0.012575 (-372.493%)               0.011998 (-395.216%)   \n",
       "NDCG@20            0.024667 (-283.468%)               0.021948 (-330.973%)   \n",
       "P@30               0.003441 (-209.619%)               0.003011 (-253.836%)   \n",
       "R@30               0.103238 (-209.607%)               0.090333 (-253.837%)   \n",
       "F1@30              0.006661 (-209.578%)               0.005828 (-253.826%)   \n",
       "MAP@30              0.013912 (-347.75%)               0.013114 (-374.996%)   \n",
       "MRR@30              0.013912 (-347.75%)               0.013114 (-374.996%)   \n",
       "NDCG@30            0.031631 (-236.777%)               0.027655 (-285.196%)   \n",
       "P@40               0.003295 (-188.285%)               0.002999 (-216.739%)   \n",
       "R@40               0.131796 (-188.305%)               0.119967 (-216.732%)   \n",
       "F1@40              0.006429 (-188.303%)               0.005852 (-216.729%)   \n",
       "MAP@40             0.014722 (-334.785%)               0.013956 (-358.649%)   \n",
       "MRR@40             0.014722 (-334.785%)               0.013956 (-358.649%)   \n",
       "NDCG@40            0.036759 (-213.964%)               0.033344 (-246.119%)   \n",
       "P@50               0.003284 (-155.938%)               0.002944 (-185.496%)   \n",
       "R@50               0.164177 (-155.968%)                 0.14721 (-185.47%)   \n",
       "F1@50               0.006438 (-155.98%)               0.005773 (-185.467%)   \n",
       "MAP@50             0.015439 (-320.396%)               0.014553 (-345.991%)   \n",
       "MRR@50             0.015439 (-320.396%)               0.014553 (-345.991%)   \n",
       "NDCG@50            0.042578 (-180.664%)               0.038097 (-213.676%)   \n",
       "\n",
       "                                        4                                  5   \\\n",
       "Name     Content-based Filtering-haversine  Content-based Filtering-manhattan   \n",
       "P@1                   0.003585 (-543.264%)               0.003346 (-589.211%)   \n",
       "R@1                   0.003585 (-543.264%)               0.003346 (-589.211%)   \n",
       "F1@1                  0.003585 (-543.264%)               0.003346 (-589.211%)   \n",
       "MAP@1                 0.003585 (-543.264%)               0.003346 (-589.211%)   \n",
       "MRR@1                 0.003585 (-543.264%)               0.003346 (-589.211%)   \n",
       "NDCG@1                0.003585 (-543.264%)               0.003346 (-589.211%)   \n",
       "P@10                 0.000705 (-2013.475%)               0.003382 (-340.568%)   \n",
       "R@10                  0.00705 (-2013.504%)               0.033815 (-340.639%)   \n",
       "F1@10                0.001282 (-2013.183%)               0.006148 (-340.647%)   \n",
       "MAP@10               0.004285 (-1129.662%)               0.010157 (-418.765%)   \n",
       "MRR@10               0.004285 (-1129.662%)               0.010157 (-418.765%)   \n",
       "NDCG@10              0.004949 (-1367.933%)               0.015342 (-373.524%)   \n",
       "P@20                  0.00058 (-2038.448%)                0.003119 (-297.66%)   \n",
       "R@20                  0.01159 (-2040.276%)               0.062373 (-297.701%)   \n",
       "F1@20                0.001104 (-2039.946%)                0.00594 (-297.727%)   \n",
       "MAP@20               0.004587 (-1195.313%)               0.012084 (-391.691%)   \n",
       "MRR@20               0.004587 (-1195.313%)               0.012084 (-391.691%)   \n",
       "NDCG@20               0.00613 (-1443.067%)               0.022111 (-327.796%)   \n",
       "P@30                  0.000597 (-1684.59%)               0.003043 (-250.115%)   \n",
       "R@30                 0.017923 (-1683.362%)               0.091289 (-250.132%)   \n",
       "F1@30                0.001156 (-1683.824%)                0.00589 (-250.102%)   \n",
       "MAP@30               0.004841 (-1186.738%)               0.013248 (-370.192%)   \n",
       "MRR@30               0.004841 (-1186.738%)               0.013248 (-370.192%)   \n",
       "NDCG@30               0.00762 (-1297.979%)                0.028096 (-279.15%)   \n",
       "P@40                 0.000612 (-1452.124%)               0.003005 (-216.106%)   \n",
       "R@40                 0.024495 (-1451.231%)               0.120206 (-216.102%)   \n",
       "F1@40                0.001195 (-1451.046%)               0.005864 (-216.081%)   \n",
       "MAP@40               0.005033 (-1171.786%)                 0.014071 (-354.9%)   \n",
       "MRR@40               0.005033 (-1171.786%)                 0.014071 (-354.9%)   \n",
       "NDCG@40              0.008995 (-1183.046%)               0.033583 (-243.656%)   \n",
       "P@50                 0.000629 (-1236.248%)               0.002961 (-183.857%)   \n",
       "R@50                 0.031425 (-1237.282%)               0.148046 (-183.858%)   \n",
       "F1@50                0.001232 (-1237.662%)               0.005806 (-183.844%)   \n",
       "MAP@50               0.005185 (-1151.784%)               0.014681 (-342.102%)   \n",
       "MRR@50               0.005185 (-1151.784%)               0.014681 (-342.102%)   \n",
       "NDCG@50              0.010345 (-1055.157%)               0.038481 (-210.545%)   \n",
       "\n",
       "                           6                      7                       8   \\\n",
       "Name         Hybrid Filtering  NearestNeighbors-Long  NearestNeighbors-Short   \n",
       "P@1      0.002868 (-704.079%)           0.023061 (*)     0.013741 (-67.826%)   \n",
       "R@1      0.002868 (-704.079%)           0.023061 (*)     0.013741 (-67.826%)   \n",
       "F1@1     0.002868 (-704.079%)           0.023061 (*)     0.013741 (-67.826%)   \n",
       "MAP@1    0.002868 (-704.079%)           0.023061 (*)     0.013741 (-67.826%)   \n",
       "MRR@1    0.002868 (-704.079%)           0.023061 (*)     0.013741 (-67.826%)   \n",
       "NDCG@1   0.002868 (-704.079%)           0.023061 (*)     0.013741 (-67.826%)   \n",
       "P@10      0.011853 (-25.707%)             0.0149 (*)     0.011435 (-30.302%)   \n",
       "R@10      0.118533 (-25.705%)           0.149002 (*)     0.114351 (-30.302%)   \n",
       "F1@10     0.021551 (-25.706%)           0.027091 (*)     0.020791 (-30.302%)   \n",
       "MAP@10    0.026735 (-97.086%)           0.052691 (*)     0.036567 (-44.094%)   \n",
       "MRR@10    0.026735 (-97.086%)           0.052691 (*)     0.036567 (-44.094%)   \n",
       "NDCG@10   0.048408 (-50.074%)           0.072648 (*)     0.053354 (-36.162%)   \n",
       "P@20      0.011196 (-10.781%)           0.012403 (*)     0.009392 (-32.059%)   \n",
       "R@20      0.223922 (-10.779%)           0.248058 (*)     0.187836 (-32.061%)   \n",
       "F1@20      0.021326 (-10.78%)           0.023625 (*)     0.017889 (-32.064%)   \n",
       "MAP@20    0.033932 (-75.103%)           0.059416 (*)     0.041561 (-42.961%)   \n",
       "MRR@20    0.033932 (-75.103%)           0.059416 (*)     0.041561 (-42.961%)   \n",
       "NDCG@20   0.073143 (-29.322%)            0.09459 (*)     0.069087 (-36.914%)   \n",
       "P@30       0.010125 (-5.225%)           0.010654 (*)     0.008225 (-29.532%)   \n",
       "R@30        0.30374 (-5.232%)           0.319632 (*)      0.246744 (-29.54%)   \n",
       "F1@30      0.019596 (-5.231%)           0.020621 (*)     0.015919 (-29.537%)   \n",
       "MAP@30      0.03712 (-67.81%)           0.062291 (*)     0.043898 (-41.899%)   \n",
       "MRR@30      0.03712 (-67.81%)           0.062291 (*)     0.043898 (-41.899%)   \n",
       "NDCG@30   0.087543 (-21.684%)           0.106526 (*)     0.079316 (-34.306%)   \n",
       "P@40       0.009147 (-3.848%)           0.009499 (*)     0.007396 (-28.434%)   \n",
       "R@40       0.365874 (-3.854%)           0.379974 (*)     0.295854 (-28.433%)   \n",
       "F1@40      0.017848 (-3.849%)           0.018535 (*)      0.014432 (-28.43%)   \n",
       "MAP@40    0.038908 (-64.514%)           0.064009 (*)     0.045305 (-41.285%)   \n",
       "MRR@40    0.038908 (-64.514%)           0.064009 (*)     0.045305 (-41.285%)   \n",
       "NDCG@40   0.096794 (-19.233%)            0.11541 (*)     0.086736 (-33.059%)   \n",
       "P@50       0.008276 (-1.559%)           0.008405 (*)     0.006785 (-23.876%)   \n",
       "R@50       0.413789 (-1.559%)           0.420241 (*)     0.339228 (-23.882%)   \n",
       "F1@50      0.016227 (-1.559%)            0.01648 (*)     0.013303 (-23.882%)   \n",
       "MAP@50    0.039965 (-62.405%)           0.064905 (*)     0.046271 (-40.271%)   \n",
       "MRR@50    0.039965 (-62.405%)           0.064905 (*)     0.046271 (-40.271%)   \n",
       "NDCG@50   0.102644 (-16.423%)           0.119501 (*)      0.092773 (-28.81%)   \n",
       "\n",
       "                            9                       10                     11  \n",
       "Name        Simple-noninteract  Simple-noninteract-pop          Simple-random  \n",
       "P@1      0.000956 (-2312.238%)    0.010157 (-127.045%)  0.000956 (-2312.238%)  \n",
       "R@1      0.000956 (-2312.238%)    0.010157 (-127.045%)  0.000956 (-2312.238%)  \n",
       "F1@1     0.000956 (-2312.238%)    0.010157 (-127.045%)  0.000956 (-2312.238%)  \n",
       "MAP@1    0.000956 (-2312.238%)    0.010157 (-127.045%)  0.000956 (-2312.238%)  \n",
       "MRR@1    0.000956 (-2312.238%)    0.010157 (-127.045%)  0.000956 (-2312.238%)  \n",
       "NDCG@1   0.000956 (-2312.238%)    0.010157 (-127.045%)  0.000956 (-2312.238%)  \n",
       "P@10      0.00098 (-1420.408%)     0.009177 (-62.362%)  0.001159 (-1185.591%)  \n",
       "R@10     0.009798 (-1420.739%)      0.091767 (-62.37%)   0.01159 (-1185.608%)  \n",
       "F1@10    0.001781 (-1421.112%)     0.016685 (-62.367%)  0.002107 (-1185.762%)  \n",
       "MAP@10    0.00284 (-1755.317%)      0.027561 (-91.18%)  0.003246 (-1523.259%)  \n",
       "MRR@10    0.00284 (-1755.317%)      0.027561 (-91.18%)  0.003246 (-1523.259%)  \n",
       "NDCG@10  0.004437 (-1537.323%)     0.042289 (-71.789%)  0.005143 (-1312.561%)  \n",
       "P@20     0.001028 (-1106.518%)     0.008764 (-41.522%)   0.001195 (-937.908%)  \n",
       "R@20     0.020552 (-1106.977%)      0.17529 (-41.513%)   0.023898 (-937.986%)  \n",
       "F1@20    0.001957 (-1107.205%)     0.016694 (-41.518%)   0.002276 (-938.005%)  \n",
       "MAP@20    0.003585 (-1557.35%)     0.033287 (-78.496%)  0.004085 (-1354.492%)  \n",
       "MRR@20    0.003585 (-1557.35%)     0.033287 (-78.496%)  0.004085 (-1354.492%)  \n",
       "NDCG@20  0.007186 (-1216.309%)     0.062654 (-50.972%)  0.008249 (-1046.684%)  \n",
       "P@30      0.000972 (-996.091%)     0.007811 (-36.397%)   0.001155 (-822.424%)  \n",
       "R@30       0.029155 (-996.32%)      0.234317 (-36.41%)   0.034652 (-822.406%)  \n",
       "F1@30     0.001881 (-996.279%)     0.015117 (-36.409%)   0.002236 (-822.227%)  \n",
       "MAP@30   0.003933 (-1483.804%)     0.035623 (-74.862%)  0.004512 (-1280.563%)  \n",
       "MRR@30   0.003933 (-1483.804%)     0.035623 (-74.862%)  0.004512 (-1280.563%)  \n",
       "NDCG@30  0.008892 (-1097.998%)     0.073243 (-45.442%)   0.010439 (-920.462%)  \n",
       "P@40       0.00101 (-840.495%)     0.007325 (-29.679%)    0.001147 (-728.16%)  \n",
       "R@40      0.040387 (-840.832%)      0.292986 (-29.69%)   0.045884 (-728.119%)  \n",
       "F1@40      0.00197 (-840.863%)     0.014292 (-29.688%)   0.002238 (-728.195%)  \n",
       "MAP@40   0.004249 (-1406.449%)     0.037306 (-71.578%)   0.004832 (-1224.69%)  \n",
       "MRR@40   0.004249 (-1406.449%)     0.037306 (-71.578%)   0.004832 (-1224.69%)  \n",
       "NDCG@40   0.011159 (-934.232%)     0.083337 (-38.486%)   0.012581 (-817.336%)  \n",
       "P@50      0.001054 (-697.438%)     0.006933 (-21.232%)   0.001159 (-625.194%)  \n",
       "R@50      0.052694 (-697.512%)     0.346636 (-21.234%)   0.057952 (-625.154%)  \n",
       "F1@50     0.002066 (-697.677%)      0.013594 (-21.23%)   0.002273 (-625.033%)  \n",
       "MAP@50    0.00452 (-1335.951%)     0.038491 (-68.624%)  0.005098 (-1173.146%)  \n",
       "MRR@50    0.00452 (-1335.951%)     0.038491 (-68.624%)  0.005098 (-1173.146%)  \n",
       "NDCG@50   0.013519 (-783.949%)     0.091857 (-30.095%)   0.014795 (-707.712%)  "
      ]
     },
     "execution_count": 40,
     "metadata": {},
     "output_type": "execute_result"
    }
   ],
   "source": [
    "res = resultsDF.transpose()\n",
    "for index, row in res[1:].iterrows():\n",
    "    value = 0\n",
    "    for col in res.columns:\n",
    "        if row[col] > value:\n",
    "            value = row[col]\n",
    "    for col in res.columns:\n",
    "        if row[col] == value:\n",
    "            res.at[index, col] = str(row[col])+' (*)'\n",
    "        else:\n",
    "            calc = round( (row[col]-value)*100/row[col], 3)\n",
    "            res.at[index, col] = str(row[col])+' ('+str(calc)+'%)'\n",
    "res"
   ]
  },
  {
   "cell_type": "code",
   "execution_count": null,
   "id": "f734bb75",
   "metadata": {},
   "outputs": [],
   "source": []
  },
  {
   "cell_type": "code",
   "execution_count": null,
   "id": "43658daf",
   "metadata": {},
   "outputs": [],
   "source": [
    "res.to_csv(f\"{datasetName}/resultsComparative_{datasetName}.csv\", index=True)"
   ]
  },
  {
   "cell_type": "code",
   "execution_count": null,
   "id": "accd2a55",
   "metadata": {},
   "outputs": [],
   "source": []
  }
 ],
 "metadata": {
  "kernelspec": {
   "display_name": "Python 3 (ipykernel)",
   "language": "python",
   "name": "python3"
  },
  "language_info": {
   "codemirror_mode": {
    "name": "ipython",
    "version": 3
   },
   "file_extension": ".py",
   "mimetype": "text/x-python",
   "name": "python",
   "nbconvert_exporter": "python",
   "pygments_lexer": "ipython3",
   "version": "3.10.12"
  }
 },
 "nbformat": 4,
 "nbformat_minor": 5
}
